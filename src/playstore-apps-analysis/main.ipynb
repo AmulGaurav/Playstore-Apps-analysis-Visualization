{
  "cells": [
    {
      "attachments": {},
      "cell_type": "markdown",
      "metadata": {
        "id": "VekxUiQdDDz4"
      },
      "source": [
        "## **PROJECT TITLE: PLAYSTORE APPS ANALYSIS**                                                             \n",
        "### **BY TEAM DATA CRAWLERS**\n",
        "TEAM MEMBERS:\n",
        "\n",
        "\n",
        "*   G. K. JENNIFER \n",
        "*   AMUL GAURAV\n",
        "*   IGBOKWE UCHANMA ADEOLA\n",
        "                                                                                                 \n",
        "                                                                                                             DATE: JANUARY 2023"
      ]
    },
    {
      "attachments": {},
      "cell_type": "markdown",
      "metadata": {
        "id": "zDZEDUvPDDz9",
        "tags": []
      },
      "source": [
        "**INTRODUCTION**\n",
        "\n",
        "This was carried out as part of the HiCounselor Live Project. The datasets used comprises of data on Google playstore applications(apps). Two datasets were utilized, the first dataset, playstore_apps contains information of the applications (apps) and the second, playstore_reviews contains information about the reviews of the apps. \n",
        "This only contains the preprocessing of the datasets required for the analysis. Business questions were answered using Structured Query Language(SQL)"
      ]
    },
    {
      "cell_type": "code",
      "execution_count": 1,
      "metadata": {
        "id": "1TIRjqfADDz_"
      },
      "outputs": [],
      "source": [
        "# Necessary imports \n",
        "import pandas as pd\n",
        "import numpy as np"
      ]
    },
    {
      "attachments": {},
      "cell_type": "markdown",
      "metadata": {
        "id": "ovK5Q6cDDD0A"
      },
      "source": [
        "**1. Pre-processing of apps dataset**"
      ]
    },
    {
      "cell_type": "code",
      "execution_count": 2,
      "metadata": {
        "colab": {
          "base_uri": "https://localhost:8080/",
          "height": 730
        },
        "id": "rg5XMvZHDD0B",
        "outputId": "291abd67-b8fa-41a0-9e71-e4570c35c13d"
      },
      "outputs": [
        {
          "name": "stdout",
          "output_type": "stream",
          "text": [
            "<class 'pandas.core.frame.DataFrame'>\n",
            "Index: 10841 entries, Photo Editor & Candy Camera & Grid & ScrapBook to iHoroscope - 2018 Daily Horoscope & Astrology\n",
            "Data columns (total 12 columns):\n",
            " #   Column          Non-Null Count  Dtype  \n",
            "---  ------          --------------  -----  \n",
            " 0   Category        10841 non-null  object \n",
            " 1   Rating          9367 non-null   float64\n",
            " 2   Reviews         10840 non-null  float64\n",
            " 3   Size            10841 non-null  object \n",
            " 4   Installs        10840 non-null  float64\n",
            " 5   Type            10840 non-null  object \n",
            " 6   Price           10840 non-null  float64\n",
            " 7   Content Rating  10840 non-null  object \n",
            " 8   Genres          10841 non-null  object \n",
            " 9   Last Updated    10840 non-null  object \n",
            " 10  Current Ver     10833 non-null  object \n",
            " 11  Android Ver     10838 non-null  object \n",
            "dtypes: float64(4), object(8)\n",
            "memory usage: 1.1+ MB\n"
          ]
        },
        {
          "data": {
            "text/html": [
              "<div>\n",
              "<style scoped>\n",
              "    .dataframe tbody tr th:only-of-type {\n",
              "        vertical-align: middle;\n",
              "    }\n",
              "\n",
              "    .dataframe tbody tr th {\n",
              "        vertical-align: top;\n",
              "    }\n",
              "\n",
              "    .dataframe thead th {\n",
              "        text-align: right;\n",
              "    }\n",
              "</style>\n",
              "<table border=\"1\" class=\"dataframe\">\n",
              "  <thead>\n",
              "    <tr style=\"text-align: right;\">\n",
              "      <th></th>\n",
              "      <th>Category</th>\n",
              "      <th>Rating</th>\n",
              "      <th>Reviews</th>\n",
              "      <th>Size</th>\n",
              "      <th>Installs</th>\n",
              "      <th>Type</th>\n",
              "      <th>Price</th>\n",
              "      <th>Content Rating</th>\n",
              "      <th>Genres</th>\n",
              "      <th>Last Updated</th>\n",
              "      <th>Current Ver</th>\n",
              "      <th>Android Ver</th>\n",
              "    </tr>\n",
              "    <tr>\n",
              "      <th>App</th>\n",
              "      <th></th>\n",
              "      <th></th>\n",
              "      <th></th>\n",
              "      <th></th>\n",
              "      <th></th>\n",
              "      <th></th>\n",
              "      <th></th>\n",
              "      <th></th>\n",
              "      <th></th>\n",
              "      <th></th>\n",
              "      <th></th>\n",
              "      <th></th>\n",
              "    </tr>\n",
              "  </thead>\n",
              "  <tbody>\n",
              "    <tr>\n",
              "      <th>Photo Editor &amp; Candy Camera &amp; Grid &amp; ScrapBook</th>\n",
              "      <td>ART_AND_DESIGN</td>\n",
              "      <td>4.1</td>\n",
              "      <td>159.0</td>\n",
              "      <td>19M</td>\n",
              "      <td>10000.0</td>\n",
              "      <td>Free</td>\n",
              "      <td>0.0</td>\n",
              "      <td>Everyone</td>\n",
              "      <td>Art &amp; Design</td>\n",
              "      <td>07-01-2018</td>\n",
              "      <td>1.0.0</td>\n",
              "      <td>4.0.3 and up</td>\n",
              "    </tr>\n",
              "    <tr>\n",
              "      <th>Coloring book moana</th>\n",
              "      <td>ART_AND_DESIGN</td>\n",
              "      <td>3.9</td>\n",
              "      <td>967.0</td>\n",
              "      <td>14M</td>\n",
              "      <td>500000.0</td>\n",
              "      <td>Free</td>\n",
              "      <td>0.0</td>\n",
              "      <td>Everyone</td>\n",
              "      <td>Art &amp; Design;Pretend Play</td>\n",
              "      <td>15-01-2018</td>\n",
              "      <td>2.0.0</td>\n",
              "      <td>4.0.3 and up</td>\n",
              "    </tr>\n",
              "    <tr>\n",
              "      <th>U Launcher Lite – FREE Live Cool Themes, Hide Apps</th>\n",
              "      <td>ART_AND_DESIGN</td>\n",
              "      <td>4.7</td>\n",
              "      <td>87510.0</td>\n",
              "      <td>8.7M</td>\n",
              "      <td>5000000.0</td>\n",
              "      <td>Free</td>\n",
              "      <td>0.0</td>\n",
              "      <td>Everyone</td>\n",
              "      <td>Art &amp; Design</td>\n",
              "      <td>01-08-2018</td>\n",
              "      <td>1.2.4</td>\n",
              "      <td>4.0.3 and up</td>\n",
              "    </tr>\n",
              "    <tr>\n",
              "      <th>Sketch - Draw &amp; Paint</th>\n",
              "      <td>ART_AND_DESIGN</td>\n",
              "      <td>4.5</td>\n",
              "      <td>215644.0</td>\n",
              "      <td>25M</td>\n",
              "      <td>50000000.0</td>\n",
              "      <td>Free</td>\n",
              "      <td>0.0</td>\n",
              "      <td>Teen</td>\n",
              "      <td>Art &amp; Design</td>\n",
              "      <td>08-06-2018</td>\n",
              "      <td>Varies with device</td>\n",
              "      <td>4.2 and up</td>\n",
              "    </tr>\n",
              "    <tr>\n",
              "      <th>Pixel Draw - Number Art Coloring Book</th>\n",
              "      <td>ART_AND_DESIGN</td>\n",
              "      <td>4.3</td>\n",
              "      <td>967.0</td>\n",
              "      <td>2.8M</td>\n",
              "      <td>100000.0</td>\n",
              "      <td>Free</td>\n",
              "      <td>0.0</td>\n",
              "      <td>Everyone</td>\n",
              "      <td>Art &amp; Design;Creativity</td>\n",
              "      <td>20-06-2018</td>\n",
              "      <td>1.1</td>\n",
              "      <td>4.4 and up</td>\n",
              "    </tr>\n",
              "    <tr>\n",
              "      <th>Paper flowers instructions</th>\n",
              "      <td>ART_AND_DESIGN</td>\n",
              "      <td>4.4</td>\n",
              "      <td>167.0</td>\n",
              "      <td>5.6M</td>\n",
              "      <td>50000.0</td>\n",
              "      <td>Free</td>\n",
              "      <td>0.0</td>\n",
              "      <td>Everyone</td>\n",
              "      <td>Art &amp; Design</td>\n",
              "      <td>26-03-2017</td>\n",
              "      <td>1</td>\n",
              "      <td>2.3 and up</td>\n",
              "    </tr>\n",
              "  </tbody>\n",
              "</table>\n",
              "</div>"
            ],
            "text/plain": [
              "                                                          Category  Rating  \\\n",
              "App                                                                          \n",
              "Photo Editor & Candy Camera & Grid & ScrapBook      ART_AND_DESIGN     4.1   \n",
              "Coloring book moana                                 ART_AND_DESIGN     3.9   \n",
              "U Launcher Lite – FREE Live Cool Themes, Hide Apps  ART_AND_DESIGN     4.7   \n",
              "Sketch - Draw & Paint                               ART_AND_DESIGN     4.5   \n",
              "Pixel Draw - Number Art Coloring Book               ART_AND_DESIGN     4.3   \n",
              "Paper flowers instructions                          ART_AND_DESIGN     4.4   \n",
              "\n",
              "                                                     Reviews  Size  \\\n",
              "App                                                                  \n",
              "Photo Editor & Candy Camera & Grid & ScrapBook         159.0   19M   \n",
              "Coloring book moana                                    967.0   14M   \n",
              "U Launcher Lite – FREE Live Cool Themes, Hide Apps   87510.0  8.7M   \n",
              "Sketch - Draw & Paint                               215644.0   25M   \n",
              "Pixel Draw - Number Art Coloring Book                  967.0  2.8M   \n",
              "Paper flowers instructions                             167.0  5.6M   \n",
              "\n",
              "                                                      Installs  Type  Price  \\\n",
              "App                                                                           \n",
              "Photo Editor & Candy Camera & Grid & ScrapBook         10000.0  Free    0.0   \n",
              "Coloring book moana                                   500000.0  Free    0.0   \n",
              "U Launcher Lite – FREE Live Cool Themes, Hide Apps   5000000.0  Free    0.0   \n",
              "Sketch - Draw & Paint                               50000000.0  Free    0.0   \n",
              "Pixel Draw - Number Art Coloring Book                 100000.0  Free    0.0   \n",
              "Paper flowers instructions                             50000.0  Free    0.0   \n",
              "\n",
              "                                                   Content Rating  \\\n",
              "App                                                                 \n",
              "Photo Editor & Candy Camera & Grid & ScrapBook           Everyone   \n",
              "Coloring book moana                                      Everyone   \n",
              "U Launcher Lite – FREE Live Cool Themes, Hide Apps       Everyone   \n",
              "Sketch - Draw & Paint                                        Teen   \n",
              "Pixel Draw - Number Art Coloring Book                    Everyone   \n",
              "Paper flowers instructions                               Everyone   \n",
              "\n",
              "                                                                       Genres  \\\n",
              "App                                                                             \n",
              "Photo Editor & Candy Camera & Grid & ScrapBook                   Art & Design   \n",
              "Coloring book moana                                 Art & Design;Pretend Play   \n",
              "U Launcher Lite – FREE Live Cool Themes, Hide Apps               Art & Design   \n",
              "Sketch - Draw & Paint                                            Art & Design   \n",
              "Pixel Draw - Number Art Coloring Book                 Art & Design;Creativity   \n",
              "Paper flowers instructions                                       Art & Design   \n",
              "\n",
              "                                                   Last Updated  \\\n",
              "App                                                               \n",
              "Photo Editor & Candy Camera & Grid & ScrapBook       07-01-2018   \n",
              "Coloring book moana                                  15-01-2018   \n",
              "U Launcher Lite – FREE Live Cool Themes, Hide Apps   01-08-2018   \n",
              "Sketch - Draw & Paint                                08-06-2018   \n",
              "Pixel Draw - Number Art Coloring Book                20-06-2018   \n",
              "Paper flowers instructions                           26-03-2017   \n",
              "\n",
              "                                                           Current Ver  \\\n",
              "App                                                                      \n",
              "Photo Editor & Candy Camera & Grid & ScrapBook                   1.0.0   \n",
              "Coloring book moana                                              2.0.0   \n",
              "U Launcher Lite – FREE Live Cool Themes, Hide Apps               1.2.4   \n",
              "Sketch - Draw & Paint                               Varies with device   \n",
              "Pixel Draw - Number Art Coloring Book                              1.1   \n",
              "Paper flowers instructions                                           1   \n",
              "\n",
              "                                                     Android Ver  \n",
              "App                                                               \n",
              "Photo Editor & Candy Camera & Grid & ScrapBook      4.0.3 and up  \n",
              "Coloring book moana                                 4.0.3 and up  \n",
              "U Launcher Lite – FREE Live Cool Themes, Hide Apps  4.0.3 and up  \n",
              "Sketch - Draw & Paint                                 4.2 and up  \n",
              "Pixel Draw - Number Art Coloring Book                 4.4 and up  \n",
              "Paper flowers instructions                            2.3 and up  "
            ]
          },
          "execution_count": 2,
          "metadata": {},
          "output_type": "execute_result"
        }
      ],
      "source": [
        "# Read first dataset into a pandas dataframe\n",
        "app_data = pd.read_csv(\"./raw-data/playstore_apps_raw_data.csv\", index_col = 'App')\n",
        "\n",
        "# Preview dataset and features\n",
        "app_data.info()\n",
        "\n",
        "app_data.head(6)"
      ]
    },
    {
      "cell_type": "code",
      "execution_count": 3,
      "metadata": {
        "id": "g7z9jJueA0ue"
      },
      "outputs": [],
      "source": [
        "# Change index of dataset\n",
        "app_data.reset_index(inplace = True)"
      ]
    },
    {
      "attachments": {},
      "cell_type": "markdown",
      "metadata": {
        "id": "uioqlvriLKyl"
      },
      "source": [
        "**Pre-processing 1.1. Find and remove duplicates**"
      ]
    },
    {
      "cell_type": "code",
      "execution_count": 4,
      "metadata": {
        "colab": {
          "base_uri": "https://localhost:8080/"
        },
        "id": "PdEXzghaDD0C",
        "outputId": "6b8eb7cd-1530-487d-c715-4a3d4d4c6057"
      },
      "outputs": [
        {
          "name": "stdout",
          "output_type": "stream",
          "text": [
            "Number of duplicates: 483\n",
            "Existing duplicates: 0\n"
          ]
        }
      ],
      "source": [
        "# Checking for duplicates in the apps dataset\n",
        "print('Number of duplicates:', app_data.duplicated().sum())\n",
        "\n",
        "# Removing duplicate data\n",
        "app_data.drop_duplicates(keep=False, inplace = True)\n",
        "\n",
        "# Viewing that duplicates have been removed\n",
        "print('Existing duplicates:', sum(app_data.duplicated()))"
      ]
    },
    {
      "cell_type": "code",
      "execution_count": 5,
      "metadata": {
        "colab": {
          "base_uri": "https://localhost:8080/"
        },
        "id": "0TLHe6DgDD0D",
        "outputId": "50c237d6-15c0-4a77-a14b-3c4114e2e8fb"
      },
      "outputs": [
        {
          "name": "stdout",
          "output_type": "stream",
          "text": [
            "<class 'pandas.core.frame.DataFrame'>\n",
            "Int64Index: 9948 entries, 0 to 10840\n",
            "Data columns (total 13 columns):\n",
            " #   Column          Non-Null Count  Dtype  \n",
            "---  ------          --------------  -----  \n",
            " 0   App             9948 non-null   object \n",
            " 1   Category        9948 non-null   object \n",
            " 2   Rating          8491 non-null   float64\n",
            " 3   Reviews         9947 non-null   float64\n",
            " 4   Size            9948 non-null   object \n",
            " 5   Installs        9947 non-null   float64\n",
            " 6   Type            9947 non-null   object \n",
            " 7   Price           9947 non-null   float64\n",
            " 8   Content Rating  9947 non-null   object \n",
            " 9   Genres          9948 non-null   object \n",
            " 10  Last Updated    9947 non-null   object \n",
            " 11  Current Ver     9940 non-null   object \n",
            " 12  Android Ver     9945 non-null   object \n",
            "dtypes: float64(4), object(9)\n",
            "memory usage: 1.1+ MB\n"
          ]
        }
      ],
      "source": [
        "# Overview of dataset after removal of duplicates\n",
        "app_data.info()"
      ]
    },
    {
      "cell_type": "code",
      "execution_count": 6,
      "metadata": {
        "colab": {
          "base_uri": "https://localhost:8080/"
        },
        "id": "78jnNx-WDD0u",
        "outputId": "b44369f5-c7fd-4a9d-c05c-9253224026a7"
      },
      "outputs": [
        {
          "name": "stdout",
          "output_type": "stream",
          "text": [
            "Duplicates: True \n",
            "Number of duplicates: 566\n",
            "Duplicates after cleaning: False\n"
          ]
        }
      ],
      "source": [
        "# Further examination of the Apps column for duplicates\n",
        "print('Duplicates:', app_data.App.duplicated().any(), '\\n' + 'Number of duplicates:', app_data.App.duplicated().sum())\n",
        "\n",
        "# Remove duplicates\n",
        "app_data.drop_duplicates(subset = ['App'], inplace = True)\n",
        "\n",
        "# Confirm removal\n",
        "print('Duplicates after cleaning:', app_data.App.duplicated().any())"
      ]
    },
    {
      "attachments": {},
      "cell_type": "markdown",
      "metadata": {
        "id": "3b7MRZThLiFC"
      },
      "source": [
        "**Pre-processing 1.2. Find and remove any existing irrelevant value from each column**"
      ]
    },
    {
      "cell_type": "code",
      "execution_count": 7,
      "metadata": {
        "colab": {
          "base_uri": "https://localhost:8080/"
        },
        "id": "X-ftJ34TDD01",
        "outputId": "03c1cb8e-a349-4c34-ee67-bd7b682cb073"
      },
      "outputs": [
        {
          "data": {
            "text/plain": [
              "array(['ART_AND_DESIGN', 'AUTO_AND_VEHICLES', 'BEAUTY',\n",
              "       'BOOKS_AND_REFERENCE', 'BUSINESS', 'COMICS', 'COMMUNICATION',\n",
              "       'DATING', 'EDUCATION', 'ENTERTAINMENT', 'EVENTS', 'FINANCE',\n",
              "       'FOOD_AND_DRINK', 'HEALTH_AND_FITNESS', 'HOUSE_AND_HOME',\n",
              "       'LIBRARIES_AND_DEMO', 'LIFESTYLE', 'GAME', 'FAMILY', 'MEDICAL',\n",
              "       'SOCIAL', 'SHOPPING', 'PHOTOGRAPHY', 'SPORTS', 'TRAVEL_AND_LOCAL',\n",
              "       'TOOLS', 'PERSONALIZATION', 'PRODUCTIVITY', 'PARENTING', 'WEATHER',\n",
              "       'VIDEO_PLAYERS', 'NEWS_AND_MAGAZINES', 'MAPS_AND_NAVIGATION',\n",
              "       '1.9'], dtype=object)"
            ]
          },
          "execution_count": 7,
          "metadata": {},
          "output_type": "execute_result"
        }
      ],
      "source": [
        "# Examine each colum of the apps dataset for irrelevant or unrelated values or entries.\n",
        "\n",
        "# Examining the unique values in the category column\n",
        "app_data['Category'].unique()"
      ]
    },
    {
      "attachments": {},
      "cell_type": "markdown",
      "metadata": {
        "id": "h_e5FmFHFuQM"
      },
      "source": [
        "**Observation**: The category column has an irrelevant value entered as \"1.9\"."
      ]
    },
    {
      "cell_type": "code",
      "execution_count": 8,
      "metadata": {
        "colab": {
          "base_uri": "https://localhost:8080/"
        },
        "id": "F4bTlGb1DD01",
        "outputId": "3b794a0a-64d0-4ad3-b5df-0fec99bb11b8"
      },
      "outputs": [
        {
          "data": {
            "text/plain": [
              "array(['Art & Design', 'Art & Design;Pretend Play',\n",
              "       'Art & Design;Creativity', 'Art & Design;Action & Adventure',\n",
              "       'Auto & Vehicles', 'Beauty', 'Books & Reference', 'Business',\n",
              "       'Comics', 'Comics;Creativity', 'Communication', 'Dating',\n",
              "       'Education;Education', 'Education', 'Education;Creativity',\n",
              "       'Education;Music & Video', 'Education;Action & Adventure',\n",
              "       'Education;Pretend Play', 'Education;Brain Games', 'Entertainment',\n",
              "       'Entertainment;Music & Video', 'Entertainment;Brain Games',\n",
              "       'Entertainment;Creativity', 'Events', 'Finance', 'Food & Drink',\n",
              "       'Health & Fitness', 'House & Home', 'Libraries & Demo',\n",
              "       'Lifestyle', 'Lifestyle;Pretend Play',\n",
              "       'Adventure;Action & Adventure', 'Arcade', 'Casual', 'Card',\n",
              "       'Casual;Pretend Play', 'Action', 'Strategy', 'Puzzle', 'Sports',\n",
              "       'Music', 'Word', 'Racing', 'Casual;Creativity',\n",
              "       'Casual;Action & Adventure', 'Adventure', 'Board', 'Trivia',\n",
              "       'Simulation', 'Role Playing', 'Simulation;Education',\n",
              "       'Action;Action & Adventure', 'Casual;Brain Games',\n",
              "       'Simulation;Action & Adventure', 'Educational;Creativity',\n",
              "       'Puzzle;Brain Games', 'Educational;Education',\n",
              "       'Educational;Brain Games', 'Educational;Pretend Play',\n",
              "       'Entertainment;Education', 'Casual;Education',\n",
              "       'Music;Music & Video', 'Racing;Action & Adventure',\n",
              "       'Arcade;Pretend Play', 'Simulation;Pretend Play',\n",
              "       'Puzzle;Creativity', 'Sports;Action & Adventure',\n",
              "       'Educational;Action & Adventure', 'Arcade;Action & Adventure',\n",
              "       'Entertainment;Action & Adventure', 'Puzzle;Action & Adventure',\n",
              "       'Strategy;Action & Adventure', 'Music & Audio;Music & Video',\n",
              "       'Health & Fitness;Education', 'Adventure;Education',\n",
              "       'Board;Brain Games', 'Board;Action & Adventure',\n",
              "       'Board;Pretend Play', 'Entertainment;Pretend Play',\n",
              "       'Video Players & Editors;Creativity', 'Card;Action & Adventure',\n",
              "       'Medical', 'Social', 'Shopping', 'Photography', 'Travel & Local',\n",
              "       'Travel & Local;Action & Adventure', 'Tools', 'Tools;Education',\n",
              "       'Personalization', 'Productivity', 'Parenting',\n",
              "       'Parenting;Music & Video', 'Parenting;Education',\n",
              "       'Parenting;Brain Games', 'Weather', 'Video Players & Editors',\n",
              "       'Video Players & Editors;Music & Video', 'News & Magazines',\n",
              "       'Maps & Navigation', 'Health & Fitness;Action & Adventure',\n",
              "       'Role Playing;Pretend Play', 'Educational', 'Casino',\n",
              "       'Adventure;Brain Games', 'Role Playing;Action & Adventure',\n",
              "       'Trivia;Education', 'Lifestyle;Education',\n",
              "       'Books & Reference;Creativity', 'Books & Reference;Education',\n",
              "       'Puzzle;Education', 'Role Playing;Education',\n",
              "       'Role Playing;Brain Games', 'Strategy;Education',\n",
              "       'Racing;Pretend Play', 'Communication;Creativity',\n",
              "       'February 11, 2018', 'Strategy;Creativity'], dtype=object)"
            ]
          },
          "execution_count": 8,
          "metadata": {},
          "output_type": "execute_result"
        }
      ],
      "source": [
        "# Examining the unique values in the genre column\n",
        "app_data['Genres'].unique()"
      ]
    },
    {
      "attachments": {},
      "cell_type": "markdown",
      "metadata": {
        "id": "tw9XjrG0GKqL"
      },
      "source": [
        "**Observation**: The genre column has an irrelevant value entered as \"February 11, 2018\". This is a date and cannot be a valid genre."
      ]
    },
    {
      "cell_type": "code",
      "execution_count": 9,
      "metadata": {
        "colab": {
          "base_uri": "https://localhost:8080/",
          "height": 125
        },
        "id": "nSMgtTQJDD02",
        "outputId": "a0ffafad-47cd-4bb8-b40e-618d7cb10d01"
      },
      "outputs": [
        {
          "data": {
            "text/html": [
              "<div>\n",
              "<style scoped>\n",
              "    .dataframe tbody tr th:only-of-type {\n",
              "        vertical-align: middle;\n",
              "    }\n",
              "\n",
              "    .dataframe tbody tr th {\n",
              "        vertical-align: top;\n",
              "    }\n",
              "\n",
              "    .dataframe thead th {\n",
              "        text-align: right;\n",
              "    }\n",
              "</style>\n",
              "<table border=\"1\" class=\"dataframe\">\n",
              "  <thead>\n",
              "    <tr style=\"text-align: right;\">\n",
              "      <th></th>\n",
              "      <th>App</th>\n",
              "      <th>Category</th>\n",
              "      <th>Rating</th>\n",
              "      <th>Reviews</th>\n",
              "      <th>Size</th>\n",
              "      <th>Installs</th>\n",
              "      <th>Type</th>\n",
              "      <th>Price</th>\n",
              "      <th>Content Rating</th>\n",
              "      <th>Genres</th>\n",
              "      <th>Last Updated</th>\n",
              "      <th>Current Ver</th>\n",
              "      <th>Android Ver</th>\n",
              "    </tr>\n",
              "  </thead>\n",
              "  <tbody>\n",
              "    <tr>\n",
              "      <th>10472</th>\n",
              "      <td>Life Made WI-Fi Touchscreen Photo Frame</td>\n",
              "      <td>1.9</td>\n",
              "      <td>19.0</td>\n",
              "      <td>NaN</td>\n",
              "      <td>1,000+</td>\n",
              "      <td>NaN</td>\n",
              "      <td>0</td>\n",
              "      <td>NaN</td>\n",
              "      <td>NaN</td>\n",
              "      <td>February 11, 2018</td>\n",
              "      <td>NaN</td>\n",
              "      <td>4.0 and up</td>\n",
              "      <td>NaN</td>\n",
              "    </tr>\n",
              "  </tbody>\n",
              "</table>\n",
              "</div>"
            ],
            "text/plain": [
              "                                           App Category  Rating  Reviews  \\\n",
              "10472  Life Made WI-Fi Touchscreen Photo Frame      1.9    19.0      NaN   \n",
              "\n",
              "         Size  Installs Type  Price Content Rating             Genres  \\\n",
              "10472  1,000+       NaN    0    NaN            NaN  February 11, 2018   \n",
              "\n",
              "      Last Updated Current Ver Android Ver  \n",
              "10472          NaN  4.0 and up         NaN  "
            ]
          },
          "execution_count": 9,
          "metadata": {},
          "output_type": "execute_result"
        }
      ],
      "source": [
        "# Checking rows with category value as 1.9 and genre as February 11, 2018.\n",
        "app_data.loc[app_data['Genres'] == 'February 11, 2018']"
      ]
    },
    {
      "cell_type": "code",
      "execution_count": 10,
      "metadata": {
        "id": "wEqFp_3CG7oH"
      },
      "outputs": [],
      "source": [
        "# Remove irrelevant value from the genres and category columns.\n",
        "app_data.drop(10472, inplace = True)"
      ]
    },
    {
      "cell_type": "code",
      "execution_count": 11,
      "metadata": {
        "colab": {
          "base_uri": "https://localhost:8080/",
          "height": 50
        },
        "id": "nRZBqSNlDD03",
        "outputId": "80e01c46-cff4-43da-c5ba-4cb59534bcd5"
      },
      "outputs": [
        {
          "data": {
            "text/html": [
              "<div>\n",
              "<style scoped>\n",
              "    .dataframe tbody tr th:only-of-type {\n",
              "        vertical-align: middle;\n",
              "    }\n",
              "\n",
              "    .dataframe tbody tr th {\n",
              "        vertical-align: top;\n",
              "    }\n",
              "\n",
              "    .dataframe thead th {\n",
              "        text-align: right;\n",
              "    }\n",
              "</style>\n",
              "<table border=\"1\" class=\"dataframe\">\n",
              "  <thead>\n",
              "    <tr style=\"text-align: right;\">\n",
              "      <th></th>\n",
              "      <th>App</th>\n",
              "      <th>Category</th>\n",
              "      <th>Rating</th>\n",
              "      <th>Reviews</th>\n",
              "      <th>Size</th>\n",
              "      <th>Installs</th>\n",
              "      <th>Type</th>\n",
              "      <th>Price</th>\n",
              "      <th>Content Rating</th>\n",
              "      <th>Genres</th>\n",
              "      <th>Last Updated</th>\n",
              "      <th>Current Ver</th>\n",
              "      <th>Android Ver</th>\n",
              "    </tr>\n",
              "  </thead>\n",
              "  <tbody>\n",
              "  </tbody>\n",
              "</table>\n",
              "</div>"
            ],
            "text/plain": [
              "Empty DataFrame\n",
              "Columns: [App, Category, Rating, Reviews, Size, Installs, Type, Price, Content Rating, Genres, Last Updated, Current Ver, Android Ver]\n",
              "Index: []"
            ]
          },
          "execution_count": 11,
          "metadata": {},
          "output_type": "execute_result"
        }
      ],
      "source": [
        "# Again checking if category value as 1.9 and genre as February 11, 2018 removed or not.\n",
        "app_data.loc[app_data['Genres'] == 'February 11, 2018']"
      ]
    },
    {
      "cell_type": "code",
      "execution_count": 12,
      "metadata": {
        "colab": {
          "base_uri": "https://localhost:8080/"
        },
        "id": "xGi6iK_8DD03",
        "outputId": "b338ce4f-c3a2-4ebf-99ba-de3c0b3b9ef3"
      },
      "outputs": [
        {
          "data": {
            "text/plain": [
              "array([4.1, 3.9, 4.7, 4.5, 4.3, 4.4, 3.8, 4.2, 4.6, 3.2, 4. , nan, 4.8,\n",
              "       4.9, 3.6, 3.7, 3.3, 3.4, 3.5, 3.1, 5. , 2.6, 3. , 2.5, 1. , 1.9,\n",
              "       2.9, 2.8, 2.3, 2.2, 1.7, 2. , 1.8, 2.7, 2.4, 1.6, 2.1, 1.4, 1.5,\n",
              "       1.2])"
            ]
          },
          "execution_count": 12,
          "metadata": {},
          "output_type": "execute_result"
        }
      ],
      "source": [
        "# Checking for irrelevant values in the rating column\n",
        "app_data['Rating'].unique()"
      ]
    },
    {
      "attachments": {},
      "cell_type": "markdown",
      "metadata": {
        "id": "2Jd83B6nH4tb"
      },
      "source": [
        "**Observation**: There are no irrelevant values in the rating column."
      ]
    },
    {
      "cell_type": "code",
      "execution_count": 13,
      "metadata": {
        "colab": {
          "base_uri": "https://localhost:8080/"
        },
        "id": "Mcfs-qWiDD04",
        "outputId": "3ce7c74d-86a7-43eb-83a8-b71a6e5e7fae"
      },
      "outputs": [
        {
          "data": {
            "text/plain": [
              "Everyone           7695\n",
              "Teen               1012\n",
              "Mature 17+          359\n",
              "Everyone 10+        310\n",
              "Adults only 18+       3\n",
              "Unrated               2\n",
              "Name: Content Rating, dtype: int64"
            ]
          },
          "execution_count": 13,
          "metadata": {},
          "output_type": "execute_result"
        }
      ],
      "source": [
        "# Checking the unique values and the number of times they appear in the content rating column.\n",
        "app_data['Content Rating'].value_counts(dropna = False)"
      ]
    },
    {
      "attachments": {},
      "cell_type": "markdown",
      "metadata": {
        "id": "ao2AvtA0IBwD"
      },
      "source": [
        "**Observation**: There are no irrelevant values in the content rating column."
      ]
    },
    {
      "cell_type": "code",
      "execution_count": 14,
      "metadata": {
        "colab": {
          "base_uri": "https://localhost:8080/",
          "height": 990
        },
        "id": "YLzOT3GhDD04",
        "outputId": "374bdc84-af27-452e-f1a8-b927bc299747"
      },
      "outputs": [
        {
          "data": {
            "text/html": [
              "<div>\n",
              "<style scoped>\n",
              "    .dataframe tbody tr th:only-of-type {\n",
              "        vertical-align: middle;\n",
              "    }\n",
              "\n",
              "    .dataframe tbody tr th {\n",
              "        vertical-align: top;\n",
              "    }\n",
              "\n",
              "    .dataframe thead th {\n",
              "        text-align: right;\n",
              "    }\n",
              "</style>\n",
              "<table border=\"1\" class=\"dataframe\">\n",
              "  <thead>\n",
              "    <tr style=\"text-align: right;\">\n",
              "      <th></th>\n",
              "      <th>Current Ver</th>\n",
              "    </tr>\n",
              "  </thead>\n",
              "  <tbody>\n",
              "    <tr>\n",
              "      <th>Varies with device</th>\n",
              "      <td>997</td>\n",
              "    </tr>\n",
              "    <tr>\n",
              "      <th>1</th>\n",
              "      <td>826</td>\n",
              "    </tr>\n",
              "    <tr>\n",
              "      <th>1.1</th>\n",
              "      <td>268</td>\n",
              "    </tr>\n",
              "    <tr>\n",
              "      <th>1.2</th>\n",
              "      <td>182</td>\n",
              "    </tr>\n",
              "    <tr>\n",
              "      <th>2</th>\n",
              "      <td>162</td>\n",
              "    </tr>\n",
              "    <tr>\n",
              "      <th>1.3</th>\n",
              "      <td>138</td>\n",
              "    </tr>\n",
              "    <tr>\n",
              "      <th>1.0.0</th>\n",
              "      <td>132</td>\n",
              "    </tr>\n",
              "    <tr>\n",
              "      <th>1.0.1</th>\n",
              "      <td>112</td>\n",
              "    </tr>\n",
              "    <tr>\n",
              "      <th>1.4</th>\n",
              "      <td>90</td>\n",
              "    </tr>\n",
              "    <tr>\n",
              "      <th>1.5</th>\n",
              "      <td>83</td>\n",
              "    </tr>\n",
              "    <tr>\n",
              "      <th>1.0.2</th>\n",
              "      <td>78</td>\n",
              "    </tr>\n",
              "    <tr>\n",
              "      <th>3</th>\n",
              "      <td>65</td>\n",
              "    </tr>\n",
              "    <tr>\n",
              "      <th>1.6</th>\n",
              "      <td>65</td>\n",
              "    </tr>\n",
              "    <tr>\n",
              "      <th>2.1</th>\n",
              "      <td>63</td>\n",
              "    </tr>\n",
              "    <tr>\n",
              "      <th>1.0.3</th>\n",
              "      <td>60</td>\n",
              "    </tr>\n",
              "    <tr>\n",
              "      <th>1.0.4</th>\n",
              "      <td>55</td>\n",
              "    </tr>\n",
              "    <tr>\n",
              "      <th>1.7</th>\n",
              "      <td>54</td>\n",
              "    </tr>\n",
              "    <tr>\n",
              "      <th>2.0.0</th>\n",
              "      <td>49</td>\n",
              "    </tr>\n",
              "    <tr>\n",
              "      <th>1.1.0</th>\n",
              "      <td>49</td>\n",
              "    </tr>\n",
              "    <tr>\n",
              "      <th>1.1.1</th>\n",
              "      <td>48</td>\n",
              "    </tr>\n",
              "    <tr>\n",
              "      <th>1.0.5</th>\n",
              "      <td>46</td>\n",
              "    </tr>\n",
              "    <tr>\n",
              "      <th>1.2.1</th>\n",
              "      <td>45</td>\n",
              "    </tr>\n",
              "    <tr>\n",
              "      <th>1.2.0</th>\n",
              "      <td>42</td>\n",
              "    </tr>\n",
              "    <tr>\n",
              "      <th>1.0.6</th>\n",
              "      <td>40</td>\n",
              "    </tr>\n",
              "    <tr>\n",
              "      <th>4</th>\n",
              "      <td>40</td>\n",
              "    </tr>\n",
              "    <tr>\n",
              "      <th>1.8</th>\n",
              "      <td>37</td>\n",
              "    </tr>\n",
              "    <tr>\n",
              "      <th>1.9</th>\n",
              "      <td>35</td>\n",
              "    </tr>\n",
              "    <tr>\n",
              "      <th>1.0.7</th>\n",
              "      <td>34</td>\n",
              "    </tr>\n",
              "    <tr>\n",
              "      <th>3.1</th>\n",
              "      <td>33</td>\n",
              "    </tr>\n",
              "    <tr>\n",
              "      <th>5</th>\n",
              "      <td>33</td>\n",
              "    </tr>\n",
              "  </tbody>\n",
              "</table>\n",
              "</div>"
            ],
            "text/plain": [
              "                    Current Ver\n",
              "Varies with device          997\n",
              "1                           826\n",
              "1.1                         268\n",
              "1.2                         182\n",
              "2                           162\n",
              "1.3                         138\n",
              "1.0.0                       132\n",
              "1.0.1                       112\n",
              "1.4                          90\n",
              "1.5                          83\n",
              "1.0.2                        78\n",
              "3                            65\n",
              "1.6                          65\n",
              "2.1                          63\n",
              "1.0.3                        60\n",
              "1.0.4                        55\n",
              "1.7                          54\n",
              "2.0.0                        49\n",
              "1.1.0                        49\n",
              "1.1.1                        48\n",
              "1.0.5                        46\n",
              "1.2.1                        45\n",
              "1.2.0                        42\n",
              "1.0.6                        40\n",
              "4                            40\n",
              "1.8                          37\n",
              "1.9                          35\n",
              "1.0.7                        34\n",
              "3.1                          33\n",
              "5                            33"
            ]
          },
          "execution_count": 14,
          "metadata": {},
          "output_type": "execute_result"
        }
      ],
      "source": [
        "# Examining the current ver column for irrelevant values.\n",
        "app_data['Current Ver'].value_counts(dropna = False).to_frame().head(30)"
      ]
    },
    {
      "attachments": {},
      "cell_type": "markdown",
      "metadata": {
        "id": "0xQ_MfSvJGOq"
      },
      "source": [
        "**Observation**: There are no irrelevant values in the current ver column."
      ]
    },
    {
      "cell_type": "code",
      "execution_count": 15,
      "metadata": {
        "colab": {
          "base_uri": "https://localhost:8080/"
        },
        "id": "gXwGWn_xDD05",
        "outputId": "91fecab9-b4e2-4ef2-9532-75a6085129aa"
      },
      "outputs": [
        {
          "data": {
            "text/plain": [
              "array(['Free', 'Paid', nan], dtype=object)"
            ]
          },
          "execution_count": 15,
          "metadata": {},
          "output_type": "execute_result"
        }
      ],
      "source": [
        "# Inspecting the column, \"type\" for irrelevant values.\n",
        "app_data['Type'].unique()"
      ]
    },
    {
      "attachments": {},
      "cell_type": "markdown",
      "metadata": {
        "id": "fWZkZR_lJigy"
      },
      "source": [
        "**Observation**: There are no irrelevant values in the type column."
      ]
    },
    {
      "cell_type": "code",
      "execution_count": 16,
      "metadata": {
        "colab": {
          "base_uri": "https://localhost:8080/"
        },
        "id": "slENfbZVDD05",
        "outputId": "47d1b93b-f9eb-4475-b05a-c4c02b78c0a9"
      },
      "outputs": [
        {
          "data": {
            "text/plain": [
              "array(['4.0.3 and up', '4.2 and up', '4.4 and up', '2.3 and up',\n",
              "       '3.0 and up', '4.1 and up', '4.0 and up', '2.3.3 and up',\n",
              "       'Varies with device', '2.2 and up', '5.0 and up', '6.0 and up',\n",
              "       '1.6 and up', '1.5 and up', '2.1 and up', '7.0 and up',\n",
              "       '5.1 and up', '4.3 and up', '4.0.3 - 7.1.1', '2.0 and up',\n",
              "       '3.2 and up', '4.4W and up', '7.1 and up', '7.0 - 7.1.1',\n",
              "       '8.0 and up', '5.0 - 8.0', '3.1 and up', '2.0.1 and up',\n",
              "       '4.1 - 7.1.1', nan, '5.0 - 6.0', '1.0 and up', '2.2 - 7.1.1',\n",
              "       '5.0 - 7.1.1'], dtype=object)"
            ]
          },
          "execution_count": 16,
          "metadata": {},
          "output_type": "execute_result"
        }
      ],
      "source": [
        "# Inspecting the android ver column for irrelevant values.\n",
        "app_data['Android Ver'].unique()"
      ]
    },
    {
      "attachments": {},
      "cell_type": "markdown",
      "metadata": {
        "id": "GNMFOIfoKCVn"
      },
      "source": [
        "**Observation**: The value, \"4.4W and up\" appears to have a \"W\" mistakenly written after the android version number. \n",
        "\n",
        "Out of all the entries in the column, this is the only different one."
      ]
    },
    {
      "cell_type": "code",
      "execution_count": 17,
      "metadata": {
        "colab": {
          "base_uri": "https://localhost:8080/",
          "height": 598
        },
        "id": "rlKAAYq7DD06",
        "outputId": "418845f7-c470-42cb-d261-cf777efaeebd"
      },
      "outputs": [
        {
          "data": {
            "text/html": [
              "<div>\n",
              "<style scoped>\n",
              "    .dataframe tbody tr th:only-of-type {\n",
              "        vertical-align: middle;\n",
              "    }\n",
              "\n",
              "    .dataframe tbody tr th {\n",
              "        vertical-align: top;\n",
              "    }\n",
              "\n",
              "    .dataframe thead th {\n",
              "        text-align: right;\n",
              "    }\n",
              "</style>\n",
              "<table border=\"1\" class=\"dataframe\">\n",
              "  <thead>\n",
              "    <tr style=\"text-align: right;\">\n",
              "      <th></th>\n",
              "      <th>App</th>\n",
              "      <th>Category</th>\n",
              "      <th>Rating</th>\n",
              "      <th>Reviews</th>\n",
              "      <th>Size</th>\n",
              "      <th>Installs</th>\n",
              "      <th>Type</th>\n",
              "      <th>Price</th>\n",
              "      <th>Content Rating</th>\n",
              "      <th>Genres</th>\n",
              "      <th>Last Updated</th>\n",
              "      <th>Current Ver</th>\n",
              "      <th>Android Ver</th>\n",
              "    </tr>\n",
              "  </thead>\n",
              "  <tbody>\n",
              "    <tr>\n",
              "      <th>1024</th>\n",
              "      <td>Sarajevo Film Festival - Official</td>\n",
              "      <td>EVENTS</td>\n",
              "      <td>NaN</td>\n",
              "      <td>6.0</td>\n",
              "      <td>9.7M</td>\n",
              "      <td>100.0</td>\n",
              "      <td>Free</td>\n",
              "      <td>0.00</td>\n",
              "      <td>Everyone 10+</td>\n",
              "      <td>Events</td>\n",
              "      <td>31-07-2018</td>\n",
              "      <td>2.0.1</td>\n",
              "      <td>4.4W and up</td>\n",
              "    </tr>\n",
              "    <tr>\n",
              "      <th>1089</th>\n",
              "      <td>WiseBanyan - Invest For Free</td>\n",
              "      <td>FINANCE</td>\n",
              "      <td>4.2</td>\n",
              "      <td>257.0</td>\n",
              "      <td>44M</td>\n",
              "      <td>10000.0</td>\n",
              "      <td>Free</td>\n",
              "      <td>0.00</td>\n",
              "      <td>Everyone</td>\n",
              "      <td>Finance</td>\n",
              "      <td>31-07-2018</td>\n",
              "      <td>2.2.12</td>\n",
              "      <td>4.4W and up</td>\n",
              "    </tr>\n",
              "    <tr>\n",
              "      <th>2289</th>\n",
              "      <td>Critical Care Paramedic Review</td>\n",
              "      <td>MEDICAL</td>\n",
              "      <td>4.4</td>\n",
              "      <td>17.0</td>\n",
              "      <td>1.8M</td>\n",
              "      <td>1000.0</td>\n",
              "      <td>Paid</td>\n",
              "      <td>9.99</td>\n",
              "      <td>Everyone 10+</td>\n",
              "      <td>Medical</td>\n",
              "      <td>14-05-2018</td>\n",
              "      <td>2.0.5</td>\n",
              "      <td>4.4W and up</td>\n",
              "    </tr>\n",
              "    <tr>\n",
              "      <th>5970</th>\n",
              "      <td>Explore British Columbia - BC Travel Guide</td>\n",
              "      <td>TRAVEL_AND_LOCAL</td>\n",
              "      <td>4.4</td>\n",
              "      <td>7.0</td>\n",
              "      <td>17M</td>\n",
              "      <td>500.0</td>\n",
              "      <td>Free</td>\n",
              "      <td>0.00</td>\n",
              "      <td>Everyone</td>\n",
              "      <td>Travel &amp; Local</td>\n",
              "      <td>09-10-2017</td>\n",
              "      <td>2.0.0</td>\n",
              "      <td>4.4W and up</td>\n",
              "    </tr>\n",
              "    <tr>\n",
              "      <th>6365</th>\n",
              "      <td>bk Group Mobile</td>\n",
              "      <td>BUSINESS</td>\n",
              "      <td>NaN</td>\n",
              "      <td>1.0</td>\n",
              "      <td>30M</td>\n",
              "      <td>50.0</td>\n",
              "      <td>Free</td>\n",
              "      <td>0.00</td>\n",
              "      <td>Everyone</td>\n",
              "      <td>Business</td>\n",
              "      <td>26-02-2018</td>\n",
              "      <td>2</td>\n",
              "      <td>4.4W and up</td>\n",
              "    </tr>\n",
              "    <tr>\n",
              "      <th>6377</th>\n",
              "      <td>SKIN BK</td>\n",
              "      <td>PRODUCTIVITY</td>\n",
              "      <td>NaN</td>\n",
              "      <td>0.0</td>\n",
              "      <td>33M</td>\n",
              "      <td>10.0</td>\n",
              "      <td>Free</td>\n",
              "      <td>0.00</td>\n",
              "      <td>Everyone</td>\n",
              "      <td>Productivity</td>\n",
              "      <td>25-06-2018</td>\n",
              "      <td>1.1.2</td>\n",
              "      <td>4.4W and up</td>\n",
              "    </tr>\n",
              "    <tr>\n",
              "      <th>6444</th>\n",
              "      <td>BL-ED: From BLUE to RED</td>\n",
              "      <td>GAME</td>\n",
              "      <td>NaN</td>\n",
              "      <td>3.0</td>\n",
              "      <td>2.9M</td>\n",
              "      <td>10.0</td>\n",
              "      <td>Free</td>\n",
              "      <td>0.00</td>\n",
              "      <td>Everyone</td>\n",
              "      <td>Arcade</td>\n",
              "      <td>24-04-2016</td>\n",
              "      <td>1.6.5</td>\n",
              "      <td>4.4W and up</td>\n",
              "    </tr>\n",
              "    <tr>\n",
              "      <th>8288</th>\n",
              "      <td>McClatchy DC Bureau</td>\n",
              "      <td>NEWS_AND_MAGAZINES</td>\n",
              "      <td>4.3</td>\n",
              "      <td>80.0</td>\n",
              "      <td>8.7M</td>\n",
              "      <td>5000.0</td>\n",
              "      <td>Free</td>\n",
              "      <td>0.00</td>\n",
              "      <td>Everyone 10+</td>\n",
              "      <td>News &amp; Magazines</td>\n",
              "      <td>18-06-2018</td>\n",
              "      <td>6.0.1</td>\n",
              "      <td>4.4W and up</td>\n",
              "    </tr>\n",
              "    <tr>\n",
              "      <th>9515</th>\n",
              "      <td>Sanu Ek Pal Chain - Raid</td>\n",
              "      <td>TOOLS</td>\n",
              "      <td>NaN</td>\n",
              "      <td>1.0</td>\n",
              "      <td>2.6M</td>\n",
              "      <td>500.0</td>\n",
              "      <td>Free</td>\n",
              "      <td>0.00</td>\n",
              "      <td>Everyone</td>\n",
              "      <td>Tools</td>\n",
              "      <td>12-05-2018</td>\n",
              "      <td>2</td>\n",
              "      <td>4.4W and up</td>\n",
              "    </tr>\n",
              "    <tr>\n",
              "      <th>10811</th>\n",
              "      <td>FR Plus 1.6</td>\n",
              "      <td>AUTO_AND_VEHICLES</td>\n",
              "      <td>NaN</td>\n",
              "      <td>4.0</td>\n",
              "      <td>3.9M</td>\n",
              "      <td>100.0</td>\n",
              "      <td>Free</td>\n",
              "      <td>0.00</td>\n",
              "      <td>Everyone</td>\n",
              "      <td>Auto &amp; Vehicles</td>\n",
              "      <td>24-07-2018</td>\n",
              "      <td>1.3.6</td>\n",
              "      <td>4.4W and up</td>\n",
              "    </tr>\n",
              "  </tbody>\n",
              "</table>\n",
              "</div>"
            ],
            "text/plain": [
              "                                              App            Category  Rating  \\\n",
              "1024            Sarajevo Film Festival - Official              EVENTS     NaN   \n",
              "1089                 WiseBanyan - Invest For Free             FINANCE     4.2   \n",
              "2289               Critical Care Paramedic Review             MEDICAL     4.4   \n",
              "5970   Explore British Columbia - BC Travel Guide    TRAVEL_AND_LOCAL     4.4   \n",
              "6365                              bk Group Mobile            BUSINESS     NaN   \n",
              "6377                                      SKIN BK        PRODUCTIVITY     NaN   \n",
              "6444                      BL-ED: From BLUE to RED                GAME     NaN   \n",
              "8288                          McClatchy DC Bureau  NEWS_AND_MAGAZINES     4.3   \n",
              "9515                     Sanu Ek Pal Chain - Raid               TOOLS     NaN   \n",
              "10811                                 FR Plus 1.6   AUTO_AND_VEHICLES     NaN   \n",
              "\n",
              "       Reviews  Size  Installs  Type  Price Content Rating            Genres  \\\n",
              "1024       6.0  9.7M     100.0  Free   0.00   Everyone 10+            Events   \n",
              "1089     257.0   44M   10000.0  Free   0.00       Everyone           Finance   \n",
              "2289      17.0  1.8M    1000.0  Paid   9.99   Everyone 10+           Medical   \n",
              "5970       7.0   17M     500.0  Free   0.00       Everyone    Travel & Local   \n",
              "6365       1.0   30M      50.0  Free   0.00       Everyone          Business   \n",
              "6377       0.0   33M      10.0  Free   0.00       Everyone      Productivity   \n",
              "6444       3.0  2.9M      10.0  Free   0.00       Everyone            Arcade   \n",
              "8288      80.0  8.7M    5000.0  Free   0.00   Everyone 10+  News & Magazines   \n",
              "9515       1.0  2.6M     500.0  Free   0.00       Everyone             Tools   \n",
              "10811      4.0  3.9M     100.0  Free   0.00       Everyone   Auto & Vehicles   \n",
              "\n",
              "      Last Updated Current Ver  Android Ver  \n",
              "1024    31-07-2018       2.0.1  4.4W and up  \n",
              "1089    31-07-2018      2.2.12  4.4W and up  \n",
              "2289    14-05-2018       2.0.5  4.4W and up  \n",
              "5970    09-10-2017       2.0.0  4.4W and up  \n",
              "6365    26-02-2018           2  4.4W and up  \n",
              "6377    25-06-2018       1.1.2  4.4W and up  \n",
              "6444    24-04-2016       1.6.5  4.4W and up  \n",
              "8288    18-06-2018       6.0.1  4.4W and up  \n",
              "9515    12-05-2018           2  4.4W and up  \n",
              "10811   24-07-2018       1.3.6  4.4W and up  "
            ]
          },
          "execution_count": 17,
          "metadata": {},
          "output_type": "execute_result"
        }
      ],
      "source": [
        "# Rows with Android Ver '4.4W and up'\n",
        "app_data.loc[app_data['Android Ver'] == '4.4W and up']"
      ]
    },
    {
      "cell_type": "code",
      "execution_count": 18,
      "metadata": {
        "colab": {
          "base_uri": "https://localhost:8080/",
          "height": 50
        },
        "id": "kDNndtZbDD06",
        "outputId": "b980bd4b-8229-4cdf-cd28-748283f3b6e9"
      },
      "outputs": [
        {
          "data": {
            "text/html": [
              "<div>\n",
              "<style scoped>\n",
              "    .dataframe tbody tr th:only-of-type {\n",
              "        vertical-align: middle;\n",
              "    }\n",
              "\n",
              "    .dataframe tbody tr th {\n",
              "        vertical-align: top;\n",
              "    }\n",
              "\n",
              "    .dataframe thead th {\n",
              "        text-align: right;\n",
              "    }\n",
              "</style>\n",
              "<table border=\"1\" class=\"dataframe\">\n",
              "  <thead>\n",
              "    <tr style=\"text-align: right;\">\n",
              "      <th></th>\n",
              "      <th>App</th>\n",
              "      <th>Category</th>\n",
              "      <th>Rating</th>\n",
              "      <th>Reviews</th>\n",
              "      <th>Size</th>\n",
              "      <th>Installs</th>\n",
              "      <th>Type</th>\n",
              "      <th>Price</th>\n",
              "      <th>Content Rating</th>\n",
              "      <th>Genres</th>\n",
              "      <th>Last Updated</th>\n",
              "      <th>Current Ver</th>\n",
              "      <th>Android Ver</th>\n",
              "    </tr>\n",
              "  </thead>\n",
              "  <tbody>\n",
              "  </tbody>\n",
              "</table>\n",
              "</div>"
            ],
            "text/plain": [
              "Empty DataFrame\n",
              "Columns: [App, Category, Rating, Reviews, Size, Installs, Type, Price, Content Rating, Genres, Last Updated, Current Ver, Android Ver]\n",
              "Index: []"
            ]
          },
          "execution_count": 18,
          "metadata": {},
          "output_type": "execute_result"
        }
      ],
      "source": [
        "# Remove W from the Android Ver column\n",
        "app_data['Android Ver'] = app_data['Android Ver'].str.replace('W', ' ')\n",
        "\n",
        "# Checking the rows with Android Ver '4.4W and up' still present or not\n",
        "app_data.loc[app_data['Android Ver'] == '4.4W and up']"
      ]
    },
    {
      "cell_type": "code",
      "execution_count": 19,
      "metadata": {
        "colab": {
          "base_uri": "https://localhost:8080/"
        },
        "id": "DWQ5qZsMDD0z",
        "outputId": "872d8ba9-7611-4689-ed69-815f54680a59"
      },
      "outputs": [
        {
          "data": {
            "text/plain": [
              "8884                  \"i DT\" Fútbol. Todos Somos Técnicos.\n",
              "324                                                 #NAME?\n",
              "8532                         +Download 4 Instagram Twitter\n",
              "4541                                                    .R\n",
              "4636                                                /u/app\n",
              "5940                                                058.ba\n",
              "10252                                       1. FC Köln App\n",
              "8483                         10 Minutes a Day Times Tables\n",
              "7738        10 WPM Amateur ham radio CW Morse code trainer\n",
              "8219                            10,000 Quotes DB (Premium)\n",
              "9401                                  100 Doors of Revenge\n",
              "4030                                       100+ C Programs\n",
              "8703       100000+ Messages - DP, Status, Jokes & GIF 2018\n",
              "4026                            101 C Programming Problems\n",
              "220      104 Looking for a job - looking for a job, loo...\n",
              "2694                                                  11st\n",
              "5344     12 Step Meditations & Sober Prayers AA NA AL-ANON\n",
              "2483                                         14thStreetVet\n",
              "6760                              17th Edition Cable Sizer\n",
              "1997                       1LINE – One Line with One Touch\n",
              "7382                             1st Fed CI Mobile Banking\n",
              "7993     2 Amateur ham radio CW Morse code practice key...\n",
              "7666                           2-Player Co-op Zombie Shoot\n",
              "7338                                       20 Minuten (CH)\n",
              "7330                                       20 minutes (CH)\n",
              "4959                        2000 AD Comics and Judge Dredd\n",
              "6518                           2017 BN SM Sales Conference\n",
              "3448     2018Emoji Keyboard ?? Emoticons Lite -sticker&gif\n",
              "9809                          2019 Tricks Es File Explores\n",
              "4272                      2048 BTS J Hope KPop Puzzle Game\n",
              "5205                                              2048(AI)\n",
              "8004     20WPM Amateur ham radio Koch CW Morse code tra...\n",
              "7466                                                211:CK\n",
              "7475                                           211:CK Lite\n",
              "9660                                        23rd QM BDE EO\n",
              "6353                                24 megapixel hd camera\n",
              "7050                                          24/7 BZ Reis\n",
              "5835     25 Mins Ako ay may lobo Etc Pinoy Kid Song Off...\n",
              "7745     25WPM Amateur ham radio Koch CW Morse code tra...\n",
              "675                    2Date Dating App, Love and matching\n",
              "Name: App, dtype: object"
            ]
          },
          "execution_count": 19,
          "metadata": {},
          "output_type": "execute_result"
        }
      ],
      "source": [
        "# Inspecting for irrelevant values and characters in the app column\n",
        "app_data.App.sort_values(ascending= True).head(40)"
      ]
    },
    {
      "attachments": {},
      "cell_type": "markdown",
      "metadata": {
        "id": "YIKvSdCqMoGZ"
      },
      "source": [
        "**Observation**: Special characters between strings."
      ]
    },
    {
      "cell_type": "code",
      "execution_count": 20,
      "metadata": {
        "id": "m55tl1HoDD0x"
      },
      "outputs": [],
      "source": [
        "# Create a list of special characters\n",
        "spec_chars = [\"!\",'\"',\"#\",\"%\",\"&\",\"'\",\"(\",\")\",\n",
        "              \"*\",\"+\",\",\",\"-\",\".\",\"/\",\":\",\";\",\"<\",\n",
        "              \"=\",\">\",\"?\",\"@\",\"[\",\"\\\\\",\"]\",\"^\",\"_\",\n",
        "              \"`\",\"{\",\"|\",\"}\",\"~\", \"–\", \"¡\", \"¿\"]\n",
        "\n",
        "\n",
        "# Remove special characters from App and Category column. But we replaced the special characters with a plus, we might end up with double whitespaces between some words.\n",
        "for char in spec_chars:\n",
        "    app_data.App = app_data.App.str.replace(char, ' ', regex=True)\n",
        "    app_data.Category = app_data.Category.str.replace(char, ' ', regex=True)\n",
        "\n",
        "\n",
        "# Remove extra whitespaces by splitting each word using whitespaces and re-joining the words again using join.\n",
        "app_data.App = app_data.App.str.split().str.join(\" \")\n",
        "app_data.Category = app_data.Category.str.split().str.join(\" \")"
      ]
    },
    {
      "cell_type": "code",
      "execution_count": 21,
      "metadata": {
        "colab": {
          "base_uri": "https://localhost:8080/",
          "height": 1000
        },
        "id": "0iGo_BqONH2O",
        "outputId": "5b79b2f3-bf2e-42f2-8039-162d332a37cb"
      },
      "outputs": [
        {
          "data": {
            "text/html": [
              "<div>\n",
              "<style scoped>\n",
              "    .dataframe tbody tr th:only-of-type {\n",
              "        vertical-align: middle;\n",
              "    }\n",
              "\n",
              "    .dataframe tbody tr th {\n",
              "        vertical-align: top;\n",
              "    }\n",
              "\n",
              "    .dataframe thead th {\n",
              "        text-align: right;\n",
              "    }\n",
              "</style>\n",
              "<table border=\"1\" class=\"dataframe\">\n",
              "  <thead>\n",
              "    <tr style=\"text-align: right;\">\n",
              "      <th></th>\n",
              "      <th>App</th>\n",
              "      <th>Category</th>\n",
              "      <th>Rating</th>\n",
              "      <th>Reviews</th>\n",
              "      <th>Size</th>\n",
              "      <th>Installs</th>\n",
              "      <th>Type</th>\n",
              "      <th>Price</th>\n",
              "      <th>Content Rating</th>\n",
              "      <th>Genres</th>\n",
              "      <th>Last Updated</th>\n",
              "      <th>Current Ver</th>\n",
              "      <th>Android Ver</th>\n",
              "    </tr>\n",
              "  </thead>\n",
              "  <tbody>\n",
              "    <tr>\n",
              "      <th>3750</th>\n",
              "      <td></td>\n",
              "      <td>NEWS AND MAGAZINES</td>\n",
              "      <td>4.5</td>\n",
              "      <td>44274.0</td>\n",
              "      <td>8.0M</td>\n",
              "      <td>1000000.0</td>\n",
              "      <td>Free</td>\n",
              "      <td>0.00</td>\n",
              "      <td>Everyone</td>\n",
              "      <td>News &amp; Magazines</td>\n",
              "      <td>06-08-2018</td>\n",
              "      <td>4.0.6</td>\n",
              "      <td>4.4 and up</td>\n",
              "    </tr>\n",
              "    <tr>\n",
              "      <th>9308</th>\n",
              "      <td></td>\n",
              "      <td>NEWS AND MAGAZINES</td>\n",
              "      <td>4.8</td>\n",
              "      <td>311.0</td>\n",
              "      <td>14M</td>\n",
              "      <td>5000.0</td>\n",
              "      <td>Free</td>\n",
              "      <td>0.00</td>\n",
              "      <td>Everyone 10+</td>\n",
              "      <td>News &amp; Magazines</td>\n",
              "      <td>15-07-2018</td>\n",
              "      <td>2.9.19a</td>\n",
              "      <td>4.2 and up</td>\n",
              "    </tr>\n",
              "    <tr>\n",
              "      <th>5940</th>\n",
              "      <td>058 ba</td>\n",
              "      <td>NEWS AND MAGAZINES</td>\n",
              "      <td>4.4</td>\n",
              "      <td>27.0</td>\n",
              "      <td>14M</td>\n",
              "      <td>100.0</td>\n",
              "      <td>Free</td>\n",
              "      <td>0.00</td>\n",
              "      <td>Everyone</td>\n",
              "      <td>News &amp; Magazines</td>\n",
              "      <td>06-07-2018</td>\n",
              "      <td>1</td>\n",
              "      <td>4.2 and up</td>\n",
              "    </tr>\n",
              "    <tr>\n",
              "      <th>10252</th>\n",
              "      <td>1 FC Köln App</td>\n",
              "      <td>SPORTS</td>\n",
              "      <td>4.6</td>\n",
              "      <td>2019.0</td>\n",
              "      <td>41M</td>\n",
              "      <td>100000.0</td>\n",
              "      <td>Free</td>\n",
              "      <td>0.00</td>\n",
              "      <td>Everyone</td>\n",
              "      <td>Sports</td>\n",
              "      <td>20-07-2018</td>\n",
              "      <td>1.13.0</td>\n",
              "      <td>4.4 and up</td>\n",
              "    </tr>\n",
              "    <tr>\n",
              "      <th>8219</th>\n",
              "      <td>10 000 Quotes DB Premium</td>\n",
              "      <td>BOOKS AND REFERENCE</td>\n",
              "      <td>4.1</td>\n",
              "      <td>70.0</td>\n",
              "      <td>3.5M</td>\n",
              "      <td>500.0</td>\n",
              "      <td>Paid</td>\n",
              "      <td>0.99</td>\n",
              "      <td>Everyone</td>\n",
              "      <td>Books &amp; Reference</td>\n",
              "      <td>30-08-2013</td>\n",
              "      <td>1.3</td>\n",
              "      <td>2.1 and up</td>\n",
              "    </tr>\n",
              "    <tr>\n",
              "      <th>8483</th>\n",
              "      <td>10 Minutes a Day Times Tables</td>\n",
              "      <td>FAMILY</td>\n",
              "      <td>4.1</td>\n",
              "      <td>681.0</td>\n",
              "      <td>48M</td>\n",
              "      <td>100000.0</td>\n",
              "      <td>Free</td>\n",
              "      <td>0.00</td>\n",
              "      <td>Everyone</td>\n",
              "      <td>Education</td>\n",
              "      <td>03-07-2014</td>\n",
              "      <td>1.2</td>\n",
              "      <td>2.2 and up</td>\n",
              "    </tr>\n",
              "    <tr>\n",
              "      <th>7738</th>\n",
              "      <td>10 WPM Amateur ham radio CW Morse code trainer</td>\n",
              "      <td>COMMUNICATION</td>\n",
              "      <td>3.5</td>\n",
              "      <td>10.0</td>\n",
              "      <td>3.8M</td>\n",
              "      <td>100.0</td>\n",
              "      <td>Paid</td>\n",
              "      <td>1.49</td>\n",
              "      <td>Everyone</td>\n",
              "      <td>Communication</td>\n",
              "      <td>12-05-2018</td>\n",
              "      <td>2.1.4</td>\n",
              "      <td>2.1 and up</td>\n",
              "    </tr>\n",
              "    <tr>\n",
              "      <th>4030</th>\n",
              "      <td>100 C Programs</td>\n",
              "      <td>FAMILY</td>\n",
              "      <td>4.2</td>\n",
              "      <td>20.0</td>\n",
              "      <td>1.6M</td>\n",
              "      <td>5000.0</td>\n",
              "      <td>Free</td>\n",
              "      <td>0.00</td>\n",
              "      <td>Everyone</td>\n",
              "      <td>Education</td>\n",
              "      <td>03-01-2017</td>\n",
              "      <td>1</td>\n",
              "      <td>4.0 and up</td>\n",
              "    </tr>\n",
              "    <tr>\n",
              "      <th>9401</th>\n",
              "      <td>100 Doors of Revenge</td>\n",
              "      <td>FAMILY</td>\n",
              "      <td>4.1</td>\n",
              "      <td>105766.0</td>\n",
              "      <td>48M</td>\n",
              "      <td>10000000.0</td>\n",
              "      <td>Free</td>\n",
              "      <td>0.00</td>\n",
              "      <td>Teen</td>\n",
              "      <td>Puzzle</td>\n",
              "      <td>24-05-2018</td>\n",
              "      <td>2.2.2</td>\n",
              "      <td>4.4 and up</td>\n",
              "    </tr>\n",
              "    <tr>\n",
              "      <th>8703</th>\n",
              "      <td>100000 Messages DP Status Jokes GIF 2018</td>\n",
              "      <td>LIFESTYLE</td>\n",
              "      <td>3.7</td>\n",
              "      <td>121.0</td>\n",
              "      <td>3.8M</td>\n",
              "      <td>10000.0</td>\n",
              "      <td>Free</td>\n",
              "      <td>0.00</td>\n",
              "      <td>Mature 17+</td>\n",
              "      <td>Lifestyle</td>\n",
              "      <td>29-12-2017</td>\n",
              "      <td>DPSTATUS1.0.1</td>\n",
              "      <td>4.0.3 and up</td>\n",
              "    </tr>\n",
              "    <tr>\n",
              "      <th>4026</th>\n",
              "      <td>101 C Programming Problems</td>\n",
              "      <td>FAMILY</td>\n",
              "      <td>4.6</td>\n",
              "      <td>498.0</td>\n",
              "      <td>5.0M</td>\n",
              "      <td>50000.0</td>\n",
              "      <td>Free</td>\n",
              "      <td>0.00</td>\n",
              "      <td>Everyone</td>\n",
              "      <td>Education</td>\n",
              "      <td>15-10-2017</td>\n",
              "      <td>2</td>\n",
              "      <td>4.0.3 and up</td>\n",
              "    </tr>\n",
              "    <tr>\n",
              "      <th>220</th>\n",
              "      <td>104 Looking for a job looking for a job lookin...</td>\n",
              "      <td>BUSINESS</td>\n",
              "      <td>4.4</td>\n",
              "      <td>74359.0</td>\n",
              "      <td>25M</td>\n",
              "      <td>1000000.0</td>\n",
              "      <td>Free</td>\n",
              "      <td>0.00</td>\n",
              "      <td>Everyone</td>\n",
              "      <td>Business</td>\n",
              "      <td>27-07-2018</td>\n",
              "      <td>1.12.5</td>\n",
              "      <td>4.0 and up</td>\n",
              "    </tr>\n",
              "    <tr>\n",
              "      <th>2694</th>\n",
              "      <td>11st</td>\n",
              "      <td>SHOPPING</td>\n",
              "      <td>3.8</td>\n",
              "      <td>48732.0</td>\n",
              "      <td>20M</td>\n",
              "      <td>10000000.0</td>\n",
              "      <td>Free</td>\n",
              "      <td>0.00</td>\n",
              "      <td>Everyone</td>\n",
              "      <td>Shopping</td>\n",
              "      <td>31-07-2018</td>\n",
              "      <td>7.8.1</td>\n",
              "      <td>4.0 and up</td>\n",
              "    </tr>\n",
              "    <tr>\n",
              "      <th>5344</th>\n",
              "      <td>12 Step Meditations Sober Prayers AA NA AL ANON</td>\n",
              "      <td>LIFESTYLE</td>\n",
              "      <td>4.7</td>\n",
              "      <td>759.0</td>\n",
              "      <td>15M</td>\n",
              "      <td>50000.0</td>\n",
              "      <td>Free</td>\n",
              "      <td>0.00</td>\n",
              "      <td>Everyone 10+</td>\n",
              "      <td>Lifestyle</td>\n",
              "      <td>22-01-2018</td>\n",
              "      <td>1.4.5</td>\n",
              "      <td>4.1 and up</td>\n",
              "    </tr>\n",
              "    <tr>\n",
              "      <th>2483</th>\n",
              "      <td>14thStreetVet</td>\n",
              "      <td>MEDICAL</td>\n",
              "      <td>NaN</td>\n",
              "      <td>0.0</td>\n",
              "      <td>29M</td>\n",
              "      <td>5.0</td>\n",
              "      <td>Free</td>\n",
              "      <td>0.00</td>\n",
              "      <td>Everyone</td>\n",
              "      <td>Medical</td>\n",
              "      <td>16-07-2018</td>\n",
              "      <td>300000.1.11</td>\n",
              "      <td>4.0.3 and up</td>\n",
              "    </tr>\n",
              "    <tr>\n",
              "      <th>6760</th>\n",
              "      <td>17th Edition Cable Sizer</td>\n",
              "      <td>BOOKS AND REFERENCE</td>\n",
              "      <td>4.4</td>\n",
              "      <td>47.0</td>\n",
              "      <td>1.4M</td>\n",
              "      <td>1000.0</td>\n",
              "      <td>Paid</td>\n",
              "      <td>3.08</td>\n",
              "      <td>Everyone</td>\n",
              "      <td>Books &amp; Reference</td>\n",
              "      <td>27-05-2016</td>\n",
              "      <td>1.22</td>\n",
              "      <td>2.2 and up</td>\n",
              "    </tr>\n",
              "    <tr>\n",
              "      <th>1997</th>\n",
              "      <td>1LINE One Line with One Touch</td>\n",
              "      <td>GAME</td>\n",
              "      <td>4.6</td>\n",
              "      <td>214878.0</td>\n",
              "      <td>10M</td>\n",
              "      <td>10000000.0</td>\n",
              "      <td>Free</td>\n",
              "      <td>0.00</td>\n",
              "      <td>Everyone</td>\n",
              "      <td>Board</td>\n",
              "      <td>03-08-2018</td>\n",
              "      <td>2.0.4</td>\n",
              "      <td>4.1 and up</td>\n",
              "    </tr>\n",
              "    <tr>\n",
              "      <th>7382</th>\n",
              "      <td>1st Fed CI Mobile Banking</td>\n",
              "      <td>FINANCE</td>\n",
              "      <td>NaN</td>\n",
              "      <td>0.0</td>\n",
              "      <td>31M</td>\n",
              "      <td>500.0</td>\n",
              "      <td>Free</td>\n",
              "      <td>0.00</td>\n",
              "      <td>Everyone</td>\n",
              "      <td>Finance</td>\n",
              "      <td>29-09-2016</td>\n",
              "      <td>6.0.0.1775</td>\n",
              "      <td>4.1 and up</td>\n",
              "    </tr>\n",
              "    <tr>\n",
              "      <th>7993</th>\n",
              "      <td>2 Amateur ham radio CW Morse code practice key...</td>\n",
              "      <td>COMMUNICATION</td>\n",
              "      <td>4.8</td>\n",
              "      <td>6.0</td>\n",
              "      <td>3.5M</td>\n",
              "      <td>100.0</td>\n",
              "      <td>Paid</td>\n",
              "      <td>1.49</td>\n",
              "      <td>Everyone</td>\n",
              "      <td>Communication</td>\n",
              "      <td>05-03-2018</td>\n",
              "      <td>1.0.9</td>\n",
              "      <td>1.6 and up</td>\n",
              "    </tr>\n",
              "    <tr>\n",
              "      <th>7666</th>\n",
              "      <td>2 Player Co op Zombie Shoot</td>\n",
              "      <td>GAME</td>\n",
              "      <td>4.2</td>\n",
              "      <td>33.0</td>\n",
              "      <td>13M</td>\n",
              "      <td>1000.0</td>\n",
              "      <td>Free</td>\n",
              "      <td>0.00</td>\n",
              "      <td>Teen</td>\n",
              "      <td>Action</td>\n",
              "      <td>01-07-2018</td>\n",
              "      <td>1.0.13</td>\n",
              "      <td>2.3 and up</td>\n",
              "    </tr>\n",
              "    <tr>\n",
              "      <th>7338</th>\n",
              "      <td>20 Minuten CH</td>\n",
              "      <td>NEWS AND MAGAZINES</td>\n",
              "      <td>3.5</td>\n",
              "      <td>14153.0</td>\n",
              "      <td>Varies with device</td>\n",
              "      <td>1000000.0</td>\n",
              "      <td>Free</td>\n",
              "      <td>0.00</td>\n",
              "      <td>Everyone 10+</td>\n",
              "      <td>News &amp; Magazines</td>\n",
              "      <td>03-08-2018</td>\n",
              "      <td>Varies with device</td>\n",
              "      <td>Varies with device</td>\n",
              "    </tr>\n",
              "    <tr>\n",
              "      <th>7330</th>\n",
              "      <td>20 minutes CH</td>\n",
              "      <td>NEWS AND MAGAZINES</td>\n",
              "      <td>3.7</td>\n",
              "      <td>4379.0</td>\n",
              "      <td>Varies with device</td>\n",
              "      <td>1000000.0</td>\n",
              "      <td>Free</td>\n",
              "      <td>0.00</td>\n",
              "      <td>Teen</td>\n",
              "      <td>News &amp; Magazines</td>\n",
              "      <td>03-08-2018</td>\n",
              "      <td>Varies with device</td>\n",
              "      <td>Varies with device</td>\n",
              "    </tr>\n",
              "    <tr>\n",
              "      <th>4959</th>\n",
              "      <td>2000 AD Comics and Judge Dredd</td>\n",
              "      <td>COMICS</td>\n",
              "      <td>3.7</td>\n",
              "      <td>705.0</td>\n",
              "      <td>20M</td>\n",
              "      <td>50000.0</td>\n",
              "      <td>Free</td>\n",
              "      <td>0.00</td>\n",
              "      <td>Teen</td>\n",
              "      <td>Comics</td>\n",
              "      <td>19-07-2018</td>\n",
              "      <td>1.3.0</td>\n",
              "      <td>4.0.3 and up</td>\n",
              "    </tr>\n",
              "    <tr>\n",
              "      <th>6518</th>\n",
              "      <td>2017 BN SM Sales Conference</td>\n",
              "      <td>BUSINESS</td>\n",
              "      <td>NaN</td>\n",
              "      <td>2.0</td>\n",
              "      <td>10M</td>\n",
              "      <td>100.0</td>\n",
              "      <td>Free</td>\n",
              "      <td>0.00</td>\n",
              "      <td>Teen</td>\n",
              "      <td>Business</td>\n",
              "      <td>28-09-2017</td>\n",
              "      <td>v2.7.11.6</td>\n",
              "      <td>4.1 and up</td>\n",
              "    </tr>\n",
              "    <tr>\n",
              "      <th>3448</th>\n",
              "      <td>2018Emoji Keyboard Emoticons Lite sticker gif</td>\n",
              "      <td>PERSONALIZATION</td>\n",
              "      <td>4.2</td>\n",
              "      <td>115773.0</td>\n",
              "      <td>Varies with device</td>\n",
              "      <td>10000000.0</td>\n",
              "      <td>Free</td>\n",
              "      <td>0.00</td>\n",
              "      <td>Everyone</td>\n",
              "      <td>Personalization</td>\n",
              "      <td>22-05-2018</td>\n",
              "      <td>Varies with device</td>\n",
              "      <td>4.1 and up</td>\n",
              "    </tr>\n",
              "    <tr>\n",
              "      <th>9809</th>\n",
              "      <td>2019 Tricks Es File Explores</td>\n",
              "      <td>TOOLS</td>\n",
              "      <td>3.0</td>\n",
              "      <td>4.0</td>\n",
              "      <td>2.0M</td>\n",
              "      <td>1000.0</td>\n",
              "      <td>Free</td>\n",
              "      <td>0.00</td>\n",
              "      <td>Everyone</td>\n",
              "      <td>Tools</td>\n",
              "      <td>16-03-2016</td>\n",
              "      <td>1</td>\n",
              "      <td>2.2 and up</td>\n",
              "    </tr>\n",
              "    <tr>\n",
              "      <th>5205</th>\n",
              "      <td>2048 AI</td>\n",
              "      <td>FAMILY</td>\n",
              "      <td>4.3</td>\n",
              "      <td>20.0</td>\n",
              "      <td>3.5M</td>\n",
              "      <td>1000.0</td>\n",
              "      <td>Free</td>\n",
              "      <td>0.00</td>\n",
              "      <td>Everyone</td>\n",
              "      <td>Casual</td>\n",
              "      <td>03-06-2015</td>\n",
              "      <td>0.33</td>\n",
              "      <td>2.3 and up</td>\n",
              "    </tr>\n",
              "    <tr>\n",
              "      <th>4272</th>\n",
              "      <td>2048 BTS J Hope KPop Puzzle Game</td>\n",
              "      <td>FAMILY</td>\n",
              "      <td>4.7</td>\n",
              "      <td>17.0</td>\n",
              "      <td>2.4M</td>\n",
              "      <td>1000.0</td>\n",
              "      <td>Free</td>\n",
              "      <td>0.00</td>\n",
              "      <td>Everyone</td>\n",
              "      <td>Puzzle</td>\n",
              "      <td>26-09-2017</td>\n",
              "      <td>1</td>\n",
              "      <td>2.3.3 and up</td>\n",
              "    </tr>\n",
              "    <tr>\n",
              "      <th>8004</th>\n",
              "      <td>20WPM Amateur ham radio Koch CW Morse code tra...</td>\n",
              "      <td>COMMUNICATION</td>\n",
              "      <td>4.3</td>\n",
              "      <td>12.0</td>\n",
              "      <td>3.7M</td>\n",
              "      <td>100.0</td>\n",
              "      <td>Paid</td>\n",
              "      <td>1.49</td>\n",
              "      <td>Everyone</td>\n",
              "      <td>Communication</td>\n",
              "      <td>22-05-2018</td>\n",
              "      <td>3.0.4</td>\n",
              "      <td>2.1 and up</td>\n",
              "    </tr>\n",
              "    <tr>\n",
              "      <th>7466</th>\n",
              "      <td>211 CK</td>\n",
              "      <td>GAME</td>\n",
              "      <td>5.0</td>\n",
              "      <td>8.0</td>\n",
              "      <td>38M</td>\n",
              "      <td>10.0</td>\n",
              "      <td>Paid</td>\n",
              "      <td>0.99</td>\n",
              "      <td>Teen</td>\n",
              "      <td>Arcade</td>\n",
              "      <td>11-04-2018</td>\n",
              "      <td>1.3</td>\n",
              "      <td>4.1 and up</td>\n",
              "    </tr>\n",
              "  </tbody>\n",
              "</table>\n",
              "</div>"
            ],
            "text/plain": [
              "                                                     App             Category  \\\n",
              "3750                                                       NEWS AND MAGAZINES   \n",
              "9308                                                       NEWS AND MAGAZINES   \n",
              "5940                                              058 ba   NEWS AND MAGAZINES   \n",
              "10252                                      1 FC Köln App               SPORTS   \n",
              "8219                            10 000 Quotes DB Premium  BOOKS AND REFERENCE   \n",
              "8483                       10 Minutes a Day Times Tables               FAMILY   \n",
              "7738      10 WPM Amateur ham radio CW Morse code trainer        COMMUNICATION   \n",
              "4030                                      100 C Programs               FAMILY   \n",
              "9401                                100 Doors of Revenge               FAMILY   \n",
              "8703            100000 Messages DP Status Jokes GIF 2018            LIFESTYLE   \n",
              "4026                          101 C Programming Problems               FAMILY   \n",
              "220    104 Looking for a job looking for a job lookin...             BUSINESS   \n",
              "2694                                                11st             SHOPPING   \n",
              "5344     12 Step Meditations Sober Prayers AA NA AL ANON            LIFESTYLE   \n",
              "2483                                       14thStreetVet              MEDICAL   \n",
              "6760                            17th Edition Cable Sizer  BOOKS AND REFERENCE   \n",
              "1997                       1LINE One Line with One Touch                 GAME   \n",
              "7382                           1st Fed CI Mobile Banking              FINANCE   \n",
              "7993   2 Amateur ham radio CW Morse code practice key...        COMMUNICATION   \n",
              "7666                         2 Player Co op Zombie Shoot                 GAME   \n",
              "7338                                       20 Minuten CH   NEWS AND MAGAZINES   \n",
              "7330                                       20 minutes CH   NEWS AND MAGAZINES   \n",
              "4959                      2000 AD Comics and Judge Dredd               COMICS   \n",
              "6518                         2017 BN SM Sales Conference             BUSINESS   \n",
              "3448       2018Emoji Keyboard Emoticons Lite sticker gif      PERSONALIZATION   \n",
              "9809                        2019 Tricks Es File Explores                TOOLS   \n",
              "5205                                             2048 AI               FAMILY   \n",
              "4272                    2048 BTS J Hope KPop Puzzle Game               FAMILY   \n",
              "8004   20WPM Amateur ham radio Koch CW Morse code tra...        COMMUNICATION   \n",
              "7466                                              211 CK                 GAME   \n",
              "\n",
              "       Rating   Reviews                Size    Installs  Type  Price  \\\n",
              "3750      4.5   44274.0                8.0M   1000000.0  Free   0.00   \n",
              "9308      4.8     311.0                 14M      5000.0  Free   0.00   \n",
              "5940      4.4      27.0                 14M       100.0  Free   0.00   \n",
              "10252     4.6    2019.0                 41M    100000.0  Free   0.00   \n",
              "8219      4.1      70.0                3.5M       500.0  Paid   0.99   \n",
              "8483      4.1     681.0                 48M    100000.0  Free   0.00   \n",
              "7738      3.5      10.0                3.8M       100.0  Paid   1.49   \n",
              "4030      4.2      20.0                1.6M      5000.0  Free   0.00   \n",
              "9401      4.1  105766.0                 48M  10000000.0  Free   0.00   \n",
              "8703      3.7     121.0                3.8M     10000.0  Free   0.00   \n",
              "4026      4.6     498.0                5.0M     50000.0  Free   0.00   \n",
              "220       4.4   74359.0                 25M   1000000.0  Free   0.00   \n",
              "2694      3.8   48732.0                 20M  10000000.0  Free   0.00   \n",
              "5344      4.7     759.0                 15M     50000.0  Free   0.00   \n",
              "2483      NaN       0.0                 29M         5.0  Free   0.00   \n",
              "6760      4.4      47.0                1.4M      1000.0  Paid   3.08   \n",
              "1997      4.6  214878.0                 10M  10000000.0  Free   0.00   \n",
              "7382      NaN       0.0                 31M       500.0  Free   0.00   \n",
              "7993      4.8       6.0                3.5M       100.0  Paid   1.49   \n",
              "7666      4.2      33.0                 13M      1000.0  Free   0.00   \n",
              "7338      3.5   14153.0  Varies with device   1000000.0  Free   0.00   \n",
              "7330      3.7    4379.0  Varies with device   1000000.0  Free   0.00   \n",
              "4959      3.7     705.0                 20M     50000.0  Free   0.00   \n",
              "6518      NaN       2.0                 10M       100.0  Free   0.00   \n",
              "3448      4.2  115773.0  Varies with device  10000000.0  Free   0.00   \n",
              "9809      3.0       4.0                2.0M      1000.0  Free   0.00   \n",
              "5205      4.3      20.0                3.5M      1000.0  Free   0.00   \n",
              "4272      4.7      17.0                2.4M      1000.0  Free   0.00   \n",
              "8004      4.3      12.0                3.7M       100.0  Paid   1.49   \n",
              "7466      5.0       8.0                 38M        10.0  Paid   0.99   \n",
              "\n",
              "      Content Rating             Genres Last Updated         Current Ver  \\\n",
              "3750        Everyone   News & Magazines   06-08-2018               4.0.6   \n",
              "9308    Everyone 10+   News & Magazines   15-07-2018             2.9.19a   \n",
              "5940        Everyone   News & Magazines   06-07-2018                   1   \n",
              "10252       Everyone             Sports   20-07-2018              1.13.0   \n",
              "8219        Everyone  Books & Reference   30-08-2013                 1.3   \n",
              "8483        Everyone          Education   03-07-2014                 1.2   \n",
              "7738        Everyone      Communication   12-05-2018               2.1.4   \n",
              "4030        Everyone          Education   03-01-2017                   1   \n",
              "9401            Teen             Puzzle   24-05-2018               2.2.2   \n",
              "8703      Mature 17+          Lifestyle   29-12-2017       DPSTATUS1.0.1   \n",
              "4026        Everyone          Education   15-10-2017                   2   \n",
              "220         Everyone           Business   27-07-2018              1.12.5   \n",
              "2694        Everyone           Shopping   31-07-2018               7.8.1   \n",
              "5344    Everyone 10+          Lifestyle   22-01-2018               1.4.5   \n",
              "2483        Everyone            Medical   16-07-2018         300000.1.11   \n",
              "6760        Everyone  Books & Reference   27-05-2016                1.22   \n",
              "1997        Everyone              Board   03-08-2018               2.0.4   \n",
              "7382        Everyone            Finance   29-09-2016          6.0.0.1775   \n",
              "7993        Everyone      Communication   05-03-2018               1.0.9   \n",
              "7666            Teen             Action   01-07-2018              1.0.13   \n",
              "7338    Everyone 10+   News & Magazines   03-08-2018  Varies with device   \n",
              "7330            Teen   News & Magazines   03-08-2018  Varies with device   \n",
              "4959            Teen             Comics   19-07-2018               1.3.0   \n",
              "6518            Teen           Business   28-09-2017           v2.7.11.6   \n",
              "3448        Everyone    Personalization   22-05-2018  Varies with device   \n",
              "9809        Everyone              Tools   16-03-2016                   1   \n",
              "5205        Everyone             Casual   03-06-2015                0.33   \n",
              "4272        Everyone             Puzzle   26-09-2017                   1   \n",
              "8004        Everyone      Communication   22-05-2018               3.0.4   \n",
              "7466            Teen             Arcade   11-04-2018                 1.3   \n",
              "\n",
              "              Android Ver  \n",
              "3750           4.4 and up  \n",
              "9308           4.2 and up  \n",
              "5940           4.2 and up  \n",
              "10252          4.4 and up  \n",
              "8219           2.1 and up  \n",
              "8483           2.2 and up  \n",
              "7738           2.1 and up  \n",
              "4030           4.0 and up  \n",
              "9401           4.4 and up  \n",
              "8703         4.0.3 and up  \n",
              "4026         4.0.3 and up  \n",
              "220            4.0 and up  \n",
              "2694           4.0 and up  \n",
              "5344           4.1 and up  \n",
              "2483         4.0.3 and up  \n",
              "6760           2.2 and up  \n",
              "1997           4.1 and up  \n",
              "7382           4.1 and up  \n",
              "7993           1.6 and up  \n",
              "7666           2.3 and up  \n",
              "7338   Varies with device  \n",
              "7330   Varies with device  \n",
              "4959         4.0.3 and up  \n",
              "6518           4.1 and up  \n",
              "3448           4.1 and up  \n",
              "9809           2.2 and up  \n",
              "5205           2.3 and up  \n",
              "4272         2.3.3 and up  \n",
              "8004           2.1 and up  \n",
              "7466           4.1 and up  "
            ]
          },
          "execution_count": 21,
          "metadata": {},
          "output_type": "execute_result"
        }
      ],
      "source": [
        "# Examining the app and category column after the removal of special characters.\n",
        "\n",
        "app_data.sort_values(by = ['App', 'Category'], ascending= (True, False), na_position = 'first').head(30)"
      ]
    },
    {
      "attachments": {},
      "cell_type": "markdown",
      "metadata": {
        "id": "ATC0w8z3RPv6"
      },
      "source": [
        "**Pre-processing 1.3. Handling null values in the different columns**"
      ]
    },
    {
      "cell_type": "code",
      "execution_count": 22,
      "metadata": {
        "colab": {
          "base_uri": "https://localhost:8080/"
        },
        "id": "eE8qE_BoDD0w",
        "outputId": "2f6a98bc-c873-4e5e-c71f-b78101a9284b"
      },
      "outputs": [
        {
          "name": "stdout",
          "output_type": "stream",
          "text": [
            "Number of null values in the rating column: 1456\n",
            "Number of null values after replacement: 0\n"
          ]
        }
      ],
      "source": [
        "# Changing null values to zero in the Rating column\n",
        "\n",
        "# Checking number of null values\n",
        "print('Number of null values in the rating column:', app_data['Rating'].isnull().sum())\n",
        "\n",
        "# Convert Null values to 0 in Rating column as rating is of float data-type\n",
        "app_data.Rating = app_data.Rating.fillna(0)\n",
        "\n",
        "# Confirming there are no more null values\n",
        "print('Number of null values after replacement:', app_data['Rating'].isnull().sum())"
      ]
    },
    {
      "cell_type": "code",
      "execution_count": 23,
      "metadata": {
        "colab": {
          "base_uri": "https://localhost:8080/"
        },
        "id": "UXVXXjX6DD00",
        "outputId": "e800bc97-5fe5-4a05-c721-89d39d371f6b"
      },
      "outputs": [
        {
          "name": "stdout",
          "output_type": "stream",
          "text": [
            "<class 'pandas.core.frame.DataFrame'>\n",
            "Int64Index: 9381 entries, 0 to 10840\n",
            "Data columns (total 13 columns):\n",
            " #   Column          Non-Null Count  Dtype  \n",
            "---  ------          --------------  -----  \n",
            " 0   App             9381 non-null   object \n",
            " 1   Category        9381 non-null   object \n",
            " 2   Rating          9381 non-null   float64\n",
            " 3   Reviews         9381 non-null   float64\n",
            " 4   Size            9381 non-null   object \n",
            " 5   Installs        9381 non-null   float64\n",
            " 6   Type            9380 non-null   object \n",
            " 7   Price           9381 non-null   float64\n",
            " 8   Content Rating  9381 non-null   object \n",
            " 9   Genres          9381 non-null   object \n",
            " 10  Last Updated    9381 non-null   object \n",
            " 11  Current Ver     9373 non-null   object \n",
            " 12  Android Ver     9379 non-null   object \n",
            "dtypes: float64(4), object(9)\n",
            "memory usage: 1.0+ MB\n",
            "\n",
            "\n",
            "Number of null values in each column: \n",
            " App               0\n",
            "Category          0\n",
            "Rating            0\n",
            "Reviews           0\n",
            "Size              0\n",
            "Installs          0\n",
            "Type              1\n",
            "Price             0\n",
            "Content Rating    0\n",
            "Genres            0\n",
            "Last Updated      0\n",
            "Current Ver       8\n",
            "Android Ver       2\n",
            "dtype: int64\n"
          ]
        }
      ],
      "source": [
        "# Preview dataset and features\n",
        "app_data.info()\n",
        "\n",
        "print('\\n')\n",
        "\n",
        "# Inspecting the actual number of null values in each column\n",
        "print('Number of null values in each column:','\\n', app_data.isnull().sum())"
      ]
    },
    {
      "cell_type": "code",
      "execution_count": 24,
      "metadata": {
        "id": "CTb0UK7XDD07"
      },
      "outputs": [],
      "source": [
        "# Remove rows with a null values in columns with datatype text or string\n",
        "app_data = app_data.dropna(axis = 0, subset=['Type', 'Android Ver'])"
      ]
    },
    {
      "cell_type": "code",
      "execution_count": 25,
      "metadata": {
        "id": "MDGkWl26DD08"
      },
      "outputs": [],
      "source": [
        "# Changing null values to NaN in Current Ver column.\n",
        "app_data[\"Current Ver\"].fillna(\"NaN\", inplace = True)"
      ]
    },
    {
      "cell_type": "code",
      "execution_count": 26,
      "metadata": {
        "colab": {
          "base_uri": "https://localhost:8080/"
        },
        "id": "6cXrWxJ5DD08",
        "outputId": "9929c667-3bf3-497d-9fe5-66ec6218a9e1"
      },
      "outputs": [
        {
          "data": {
            "text/plain": [
              "App               0\n",
              "Category          0\n",
              "Rating            0\n",
              "Reviews           0\n",
              "Size              0\n",
              "Installs          0\n",
              "Type              0\n",
              "Price             0\n",
              "Content Rating    0\n",
              "Genres            0\n",
              "Last Updated      0\n",
              "Current Ver       0\n",
              "Android Ver       0\n",
              "dtype: int64"
            ]
          },
          "execution_count": 26,
          "metadata": {},
          "output_type": "execute_result"
        }
      ],
      "source": [
        "# Examining the number of null values in the columns\n",
        "app_data.isnull().sum()"
      ]
    },
    {
      "attachments": {},
      "cell_type": "markdown",
      "metadata": {
        "id": "Mt2XGHR5VVxe"
      },
      "source": [
        "**Pre-processing 1.4. Changing incorrect datatypes**"
      ]
    },
    {
      "cell_type": "code",
      "execution_count": 27,
      "metadata": {
        "id": "dwwVvB9WDD08"
      },
      "outputs": [],
      "source": [
        "# Change datatype of columns with incorrect datatype\n",
        "# Column with the incorrect datatype include: Last Updated\n",
        "\n",
        "app_data['Last Updated'] = pd.to_datetime(app_data['Last Updated'], dayfirst = True)"
      ]
    },
    {
      "cell_type": "code",
      "execution_count": 28,
      "metadata": {
        "colab": {
          "base_uri": "https://localhost:8080/"
        },
        "id": "uB6p_CGUDD08",
        "outputId": "a4ef8620-648d-45a7-97e1-0e7823f922d1"
      },
      "outputs": [
        {
          "data": {
            "text/plain": [
              "App                       object\n",
              "Category                  object\n",
              "Rating                   float64\n",
              "Reviews                  float64\n",
              "Size                      object\n",
              "Installs                 float64\n",
              "Type                      object\n",
              "Price                    float64\n",
              "Content Rating            object\n",
              "Genres                    object\n",
              "Last Updated      datetime64[ns]\n",
              "Current Ver               object\n",
              "Android Ver               object\n",
              "dtype: object"
            ]
          },
          "execution_count": 28,
          "metadata": {},
          "output_type": "execute_result"
        }
      ],
      "source": [
        "# Confirming change of datatypes\n",
        "app_data.dtypes"
      ]
    },
    {
      "attachments": {},
      "cell_type": "markdown",
      "metadata": {
        "id": "czRy5ZiUI7_y"
      },
      "source": [
        "**Pre-processing 1.5. Changing text case in appropriate columns**"
      ]
    },
    {
      "cell_type": "code",
      "execution_count": 29,
      "metadata": {
        "colab": {
          "base_uri": "https://localhost:8080/"
        },
        "id": "P5NxLUHGCkRk",
        "outputId": "693c8f77-b7e9-4b8f-8359-eee315ec3171"
      },
      "outputs": [
        {
          "data": {
            "text/plain": [
              "0             Art And Design\n",
              "1             Art And Design\n",
              "2             Art And Design\n",
              "3             Art And Design\n",
              "4             Art And Design\n",
              "                ...         \n",
              "10836                 Family\n",
              "10837                 Family\n",
              "10838                Medical\n",
              "10839    Books And Reference\n",
              "10840              Lifestyle\n",
              "Name: Category, Length: 9378, dtype: object"
            ]
          },
          "execution_count": 29,
          "metadata": {},
          "output_type": "execute_result"
        }
      ],
      "source": [
        "# Change the case of text in the category column from upper to proper.\n",
        "app_data['Category'] = app_data['Category'].str.title()\n",
        "\n",
        "# Confirm changes have been made\n",
        "app_data['Category']"
      ]
    },
    {
      "cell_type": "code",
      "execution_count": 30,
      "metadata": {
        "colab": {
          "base_uri": "https://localhost:8080/"
        },
        "id": "j1vEJlWeDoKa",
        "outputId": "41dc0c3d-b89c-4ee3-e8ac-739be661b195"
      },
      "outputs": [
        {
          "data": {
            "text/plain": [
              "(9378, 13)"
            ]
          },
          "execution_count": 30,
          "metadata": {},
          "output_type": "execute_result"
        }
      ],
      "source": [
        "# Details of dataset after cleaning, number of rows and columns.\n",
        "app_data.shape"
      ]
    },
    {
      "cell_type": "code",
      "execution_count": 31,
      "metadata": {
        "id": "dSxeLzygDD09"
      },
      "outputs": [],
      "source": [
        "# Save apps dataset after cleaning\n",
        "app_data.to_csv(\"./clean-data/playstore_apps_clean_team_datacrawlers.csv\", encoding= 'utf-8')"
      ]
    },
    {
      "attachments": {},
      "cell_type": "markdown",
      "metadata": {
        "id": "mWpMpFYfDD09"
      },
      "source": [
        "**2. Pre-processing of reviews dataset**"
      ]
    },
    {
      "cell_type": "code",
      "execution_count": 32,
      "metadata": {
        "colab": {
          "base_uri": "https://localhost:8080/",
          "height": 446
        },
        "id": "0jz4kF_zDD0-",
        "outputId": "4dbb5e60-3d52-406c-8755-c3e7a491497e"
      },
      "outputs": [
        {
          "name": "stdout",
          "output_type": "stream",
          "text": [
            "<class 'pandas.core.frame.DataFrame'>\n",
            "RangeIndex: 64295 entries, 0 to 64294\n",
            "Data columns (total 5 columns):\n",
            " #   Column                  Non-Null Count  Dtype  \n",
            "---  ------                  --------------  -----  \n",
            " 0   App                     64295 non-null  object \n",
            " 1   Translated_Review       37427 non-null  object \n",
            " 2   Sentiment               37432 non-null  object \n",
            " 3   Sentiment_Polarity      37432 non-null  float64\n",
            " 4   Sentiment_Subjectivity  37432 non-null  float64\n",
            "dtypes: float64(2), object(3)\n",
            "memory usage: 2.5+ MB\n"
          ]
        },
        {
          "data": {
            "text/html": [
              "<div>\n",
              "<style scoped>\n",
              "    .dataframe tbody tr th:only-of-type {\n",
              "        vertical-align: middle;\n",
              "    }\n",
              "\n",
              "    .dataframe tbody tr th {\n",
              "        vertical-align: top;\n",
              "    }\n",
              "\n",
              "    .dataframe thead th {\n",
              "        text-align: right;\n",
              "    }\n",
              "</style>\n",
              "<table border=\"1\" class=\"dataframe\">\n",
              "  <thead>\n",
              "    <tr style=\"text-align: right;\">\n",
              "      <th></th>\n",
              "      <th>App</th>\n",
              "      <th>Translated_Review</th>\n",
              "      <th>Sentiment</th>\n",
              "      <th>Sentiment_Polarity</th>\n",
              "      <th>Sentiment_Subjectivity</th>\n",
              "    </tr>\n",
              "  </thead>\n",
              "  <tbody>\n",
              "    <tr>\n",
              "      <th>51257</th>\n",
              "      <td>GO Keyboard - Cute Emojis, Themes and GIFs</td>\n",
              "      <td>amazing! love different options!!</td>\n",
              "      <td>Positive</td>\n",
              "      <td>0.416667</td>\n",
              "      <td>0.700000</td>\n",
              "    </tr>\n",
              "    <tr>\n",
              "      <th>30981</th>\n",
              "      <td>Crunchyroll - Everything Anime</td>\n",
              "      <td>Im making review explain three stars. Pros: Fa...</td>\n",
              "      <td>Positive</td>\n",
              "      <td>0.002530</td>\n",
              "      <td>0.465327</td>\n",
              "    </tr>\n",
              "    <tr>\n",
              "      <th>57697</th>\n",
              "      <td>Groupon - Shop Deals, Discounts &amp; Coupons</td>\n",
              "      <td>My account keeps getting hacked. When I finall...</td>\n",
              "      <td>Positive</td>\n",
              "      <td>0.071429</td>\n",
              "      <td>0.383929</td>\n",
              "    </tr>\n",
              "    <tr>\n",
              "      <th>18345</th>\n",
              "      <td>Bubble Shooter 2</td>\n",
              "      <td>NaN</td>\n",
              "      <td>NaN</td>\n",
              "      <td>NaN</td>\n",
              "      <td>NaN</td>\n",
              "    </tr>\n",
              "    <tr>\n",
              "      <th>18107</th>\n",
              "      <td>Bubble Shooter</td>\n",
              "      <td>Its fun!</td>\n",
              "      <td>Positive</td>\n",
              "      <td>0.375000</td>\n",
              "      <td>0.200000</td>\n",
              "    </tr>\n",
              "    <tr>\n",
              "      <th>1232</th>\n",
              "      <td>7 Weeks - Habit &amp; Goal Tracker</td>\n",
              "      <td>NaN</td>\n",
              "      <td>NaN</td>\n",
              "      <td>NaN</td>\n",
              "      <td>NaN</td>\n",
              "    </tr>\n",
              "  </tbody>\n",
              "</table>\n",
              "</div>"
            ],
            "text/plain": [
              "                                              App  \\\n",
              "51257  GO Keyboard - Cute Emojis, Themes and GIFs   \n",
              "30981              Crunchyroll - Everything Anime   \n",
              "57697   Groupon - Shop Deals, Discounts & Coupons   \n",
              "18345                            Bubble Shooter 2   \n",
              "18107                              Bubble Shooter   \n",
              "1232               7 Weeks - Habit & Goal Tracker   \n",
              "\n",
              "                                       Translated_Review Sentiment  \\\n",
              "51257                  amazing! love different options!!  Positive   \n",
              "30981  Im making review explain three stars. Pros: Fa...  Positive   \n",
              "57697  My account keeps getting hacked. When I finall...  Positive   \n",
              "18345                                                NaN       NaN   \n",
              "18107                                           Its fun!  Positive   \n",
              "1232                                                 NaN       NaN   \n",
              "\n",
              "       Sentiment_Polarity  Sentiment_Subjectivity  \n",
              "51257            0.416667                0.700000  \n",
              "30981            0.002530                0.465327  \n",
              "57697            0.071429                0.383929  \n",
              "18345                 NaN                     NaN  \n",
              "18107            0.375000                0.200000  \n",
              "1232                  NaN                     NaN  "
            ]
          },
          "execution_count": 32,
          "metadata": {},
          "output_type": "execute_result"
        }
      ],
      "source": [
        "# Read the reviews dataset\n",
        "review_data = pd.read_csv(\"./raw-data/playstore_reviews_raw_data.csv\")\n",
        "\n",
        "# Preview features of dataset\n",
        "review_data.info()\n",
        "\n",
        "review_data.sample(6)"
      ]
    },
    {
      "attachments": {},
      "cell_type": "markdown",
      "metadata": {
        "id": "a2c5rFnfW6Oj"
      },
      "source": [
        "**Pre-processing 2.1. Finding and removing nulls in the Translated review column**"
      ]
    },
    {
      "cell_type": "code",
      "execution_count": 33,
      "metadata": {
        "colab": {
          "base_uri": "https://localhost:8080/"
        },
        "id": "bveMThb7DD0_",
        "outputId": "193d6748-77dd-4729-bbc5-026d8d61490e"
      },
      "outputs": [
        {
          "name": "stdout",
          "output_type": "stream",
          "text": [
            "Number of NaN reviews in the Translated_Review column: 26868\n"
          ]
        },
        {
          "data": {
            "text/plain": [
              "False"
            ]
          },
          "execution_count": 33,
          "metadata": {},
          "output_type": "execute_result"
        }
      ],
      "source": [
        "# Removing rows with NaN reviews in reference to Translated_Review column\n",
        "\n",
        "# Checking number of null values\n",
        "print('Number of NaN reviews in the Translated_Review column:', review_data['Translated_Review'].isnull().sum())\n",
        "\n",
        "# Remove rows with NaN reviews in reference to Translated_Review column\n",
        "review_data.dropna(subset=['Translated_Review'], inplace= True)\n",
        "\n",
        "# Check that null values have been removed from the Translated_Review column\n",
        "review_data['Translated_Review'].isna().any()"
      ]
    },
    {
      "cell_type": "code",
      "execution_count": 34,
      "metadata": {
        "colab": {
          "base_uri": "https://localhost:8080/"
        },
        "id": "AP6uH7ozDD1A",
        "outputId": "e8b38921-481f-4e1f-bccb-05923065e405"
      },
      "outputs": [
        {
          "name": "stdout",
          "output_type": "stream",
          "text": [
            "<class 'pandas.core.frame.DataFrame'>\n",
            "Int64Index: 37427 entries, 0 to 64230\n",
            "Data columns (total 5 columns):\n",
            " #   Column                  Non-Null Count  Dtype  \n",
            "---  ------                  --------------  -----  \n",
            " 0   App                     37427 non-null  object \n",
            " 1   Translated_Review       37427 non-null  object \n",
            " 2   Sentiment               37427 non-null  object \n",
            " 3   Sentiment_Polarity      37427 non-null  float64\n",
            " 4   Sentiment_Subjectivity  37427 non-null  float64\n",
            "dtypes: float64(2), object(3)\n",
            "memory usage: 1.7+ MB\n"
          ]
        }
      ],
      "source": [
        "# Preview dataset\n",
        "review_data.info()"
      ]
    },
    {
      "attachments": {},
      "cell_type": "markdown",
      "metadata": {
        "id": "abhghk01WB_F"
      },
      "source": [
        "**Pre-processing 2.2. Finding and removing duplicates**"
      ]
    },
    {
      "cell_type": "code",
      "execution_count": 35,
      "metadata": {
        "colab": {
          "base_uri": "https://localhost:8080/"
        },
        "id": "T5Pfe00PDD0-",
        "outputId": "54ab9b08-27a4-46d4-fe04-080b3c612121"
      },
      "outputs": [
        {
          "name": "stdout",
          "output_type": "stream",
          "text": [
            "Number of duplicates in the Translated_Review column: 9433\n",
            "NUmber of duplicates after cleaning: 0\n"
          ]
        }
      ],
      "source": [
        "# Number of duplicate rows in the Translated_Review column\n",
        "print('Number of duplicates in the Translated_Review column:', review_data.duplicated(subset = ['Translated_Review']).sum())\n",
        "\n",
        "# Remove duplicates from the reviews dataset\n",
        "review_data.drop_duplicates(subset = ['Translated_Review'], inplace=True)\n",
        "\n",
        "# Confirming whether duplicates have been removed or not\n",
        "print('NUmber of duplicates after cleaning:', review_data.duplicated().sum())"
      ]
    },
    {
      "cell_type": "code",
      "execution_count": 36,
      "metadata": {
        "colab": {
          "base_uri": "https://localhost:8080/"
        },
        "id": "vEHenuv3DD0_",
        "outputId": "32583332-a1bd-4f4a-c888-8c514837e599"
      },
      "outputs": [
        {
          "name": "stdout",
          "output_type": "stream",
          "text": [
            "<class 'pandas.core.frame.DataFrame'>\n",
            "Int64Index: 27994 entries, 0 to 64230\n",
            "Data columns (total 5 columns):\n",
            " #   Column                  Non-Null Count  Dtype  \n",
            "---  ------                  --------------  -----  \n",
            " 0   App                     27994 non-null  object \n",
            " 1   Translated_Review       27994 non-null  object \n",
            " 2   Sentiment               27994 non-null  object \n",
            " 3   Sentiment_Polarity      27994 non-null  float64\n",
            " 4   Sentiment_Subjectivity  27994 non-null  float64\n",
            "dtypes: float64(2), object(3)\n",
            "memory usage: 1.3+ MB\n"
          ]
        }
      ],
      "source": [
        "# Preview of dataset after the removal of duplicates\n",
        "review_data.info()"
      ]
    },
    {
      "attachments": {},
      "cell_type": "markdown",
      "metadata": {},
      "source": [
        "**Pre-processing 2.3. Removing special characters from necessary columns**"
      ]
    },
    {
      "cell_type": "code",
      "execution_count": 37,
      "metadata": {},
      "outputs": [],
      "source": [
        "# Create a list of special characters\n",
        "spec_chars_in_reviews = [\"!\", '\"', \"#\", \"%\", \"&\", \"(\", \")\", \"*\", \"+\", \",\", \"-\", \".\", \"/\", \"é\",\n",
        "              \":\", \";\", \"<\", \"=\", \">\", \"?\", \"@\", \"[\", \"\\\\\", \"]\", \"^\", \"_\", \"`\", \"⚽\", \"'\", \"’\",\n",
        "              \"{\", \"|\", \"}\", \"~\", \"–\", \"¡\", \"¿\", \"❤\", \"😂\", \"—\", \"☹️\", \"✋\", \"$\", \"☝\", \"'\", \"喔\",\n",
        "              \"♥️\", \"✌\", \"🏆\", \"✔️\", \"»\", \"★\", \"🔥\", \"လေတွေ ပေးစေလိုပါတယ်\", \"♡\", \"ပေမယ့်\", \"🏠\", \"'\"\n",
        "              \"င့်\", \"သိချင်တာလေးတွေ\", \"5️⃣\", \"¢\", \"²\", \"⭐\", \"♥\", \"®\", \"☺\", \"オリジナル漫画が全話無料で読み放題\",\n",
        "              \"蘋果動新聞\", \"無料レシピ動画で料理を楽しく・簡単に！\", \"다음 메일\", \"Доставка еды пицца суши бургер салат\",\n",
        "              \"房屋交易 香港\", \"搵楼租楼\", \"à\", \"☹\", \"☆\", \"č\", \"‘\", \"™\", \"ë\", \"ô\", \"ý\", \"ß\", \"し\", \"â\", \"×\"]"
      ]
    },
    {
      "cell_type": "code",
      "execution_count": 38,
      "metadata": {},
      "outputs": [],
      "source": [
        "# Remove special characters from App and Translated_Review column. But we replaced the special characters with a plus, we might end up with double whitespaces between some words.\n",
        "for char in spec_chars_in_reviews:\n",
        "    review_data.App = review_data.App.str.replace(char, ' ', regex=True)\n",
        "    review_data.Translated_Review = review_data.Translated_Review.str.replace(char, ' ', regex=True)\n",
        "\n",
        "\n",
        "# Remove extra whitespaces by splitting each word using whitespaces and re-joining the words again using join.\n",
        "review_data.App = review_data.App.str.split().str.join(\" \")\n",
        "review_data.Translated_Review = review_data.Translated_Review.str.split().str.join(\" \")"
      ]
    },
    {
      "cell_type": "code",
      "execution_count": 39,
      "metadata": {},
      "outputs": [],
      "source": [
        "# Remove rows with the App names making no sense to ensure utf-8 encoding\n",
        "review_data = review_data[review_data.App != \"104 找工作 找工作 找打工 找兼職 履歷健檢 履歷診療室\"]\n",
        "review_data = review_data[review_data.App != \"BÁO MỚI Đọc Báo Tin Tức 24h\"]\n",
        "review_data = review_data[review_data.App != \"591房屋交易 租屋、中古屋、新建案、實價登錄、別墅透天、公寓套房、捷運、買房賣房行情、房價房貸查詢\"]"
      ]
    },
    {
      "cell_type": "code",
      "execution_count": 40,
      "metadata": {},
      "outputs": [
        {
          "data": {
            "text/html": [
              "<div>\n",
              "<style scoped>\n",
              "    .dataframe tbody tr th:only-of-type {\n",
              "        vertical-align: middle;\n",
              "    }\n",
              "\n",
              "    .dataframe tbody tr th {\n",
              "        vertical-align: top;\n",
              "    }\n",
              "\n",
              "    .dataframe thead th {\n",
              "        text-align: right;\n",
              "    }\n",
              "</style>\n",
              "<table border=\"1\" class=\"dataframe\">\n",
              "  <thead>\n",
              "    <tr style=\"text-align: right;\">\n",
              "      <th></th>\n",
              "      <th>App</th>\n",
              "      <th>Translated_Review</th>\n",
              "      <th>Sentiment</th>\n",
              "      <th>Sentiment_Polarity</th>\n",
              "      <th>Sentiment_Subjectivity</th>\n",
              "    </tr>\n",
              "  </thead>\n",
              "  <tbody>\n",
              "    <tr>\n",
              "      <th>0</th>\n",
              "      <td>10 Best Foods for You</td>\n",
              "      <td>I like eat delicious food That s I m cooking f...</td>\n",
              "      <td>Positive</td>\n",
              "      <td>1.000000</td>\n",
              "      <td>0.533333</td>\n",
              "    </tr>\n",
              "    <tr>\n",
              "      <th>1</th>\n",
              "      <td>10 Best Foods for You</td>\n",
              "      <td>This help eating healthy exercise regular basis</td>\n",
              "      <td>Positive</td>\n",
              "      <td>0.250000</td>\n",
              "      <td>0.288462</td>\n",
              "    </tr>\n",
              "    <tr>\n",
              "      <th>3</th>\n",
              "      <td>10 Best Foods for You</td>\n",
              "      <td>Works great especially going grocery store</td>\n",
              "      <td>Positive</td>\n",
              "      <td>0.400000</td>\n",
              "      <td>0.875000</td>\n",
              "    </tr>\n",
              "    <tr>\n",
              "      <th>4</th>\n",
              "      <td>10 Best Foods for You</td>\n",
              "      <td>Best idea us</td>\n",
              "      <td>Positive</td>\n",
              "      <td>1.000000</td>\n",
              "      <td>0.300000</td>\n",
              "    </tr>\n",
              "    <tr>\n",
              "      <th>5</th>\n",
              "      <td>10 Best Foods for You</td>\n",
              "      <td>Best way</td>\n",
              "      <td>Positive</td>\n",
              "      <td>1.000000</td>\n",
              "      <td>0.300000</td>\n",
              "    </tr>\n",
              "    <tr>\n",
              "      <th>6</th>\n",
              "      <td>10 Best Foods for You</td>\n",
              "      <td>Amazing</td>\n",
              "      <td>Positive</td>\n",
              "      <td>0.600000</td>\n",
              "      <td>0.900000</td>\n",
              "    </tr>\n",
              "    <tr>\n",
              "      <th>8</th>\n",
              "      <td>10 Best Foods for You</td>\n",
              "      <td>Looking forward app</td>\n",
              "      <td>Neutral</td>\n",
              "      <td>0.000000</td>\n",
              "      <td>0.000000</td>\n",
              "    </tr>\n",
              "    <tr>\n",
              "      <th>9</th>\n",
              "      <td>10 Best Foods for You</td>\n",
              "      <td>It helpful site It help foods get</td>\n",
              "      <td>Neutral</td>\n",
              "      <td>0.000000</td>\n",
              "      <td>0.000000</td>\n",
              "    </tr>\n",
              "    <tr>\n",
              "      <th>10</th>\n",
              "      <td>10 Best Foods for You</td>\n",
              "      <td>good you</td>\n",
              "      <td>Positive</td>\n",
              "      <td>0.700000</td>\n",
              "      <td>0.600000</td>\n",
              "    </tr>\n",
              "    <tr>\n",
              "      <th>11</th>\n",
              "      <td>10 Best Foods for You</td>\n",
              "      <td>Useful information The amount spelling errors ...</td>\n",
              "      <td>Positive</td>\n",
              "      <td>0.200000</td>\n",
              "      <td>0.100000</td>\n",
              "    </tr>\n",
              "    <tr>\n",
              "      <th>12</th>\n",
              "      <td>10 Best Foods for You</td>\n",
              "      <td>Thank you Great app Add arthritis eyes immunit...</td>\n",
              "      <td>Positive</td>\n",
              "      <td>0.750000</td>\n",
              "      <td>0.875000</td>\n",
              "    </tr>\n",
              "    <tr>\n",
              "      <th>13</th>\n",
              "      <td>10 Best Foods for You</td>\n",
              "      <td>Greatest ever Completely awesome maintain heal...</td>\n",
              "      <td>Positive</td>\n",
              "      <td>0.992188</td>\n",
              "      <td>0.866667</td>\n",
              "    </tr>\n",
              "    <tr>\n",
              "      <th>14</th>\n",
              "      <td>10 Best Foods for You</td>\n",
              "      <td>Good health Good health first priority</td>\n",
              "      <td>Positive</td>\n",
              "      <td>0.550000</td>\n",
              "      <td>0.511111</td>\n",
              "    </tr>\n",
              "    <tr>\n",
              "      <th>16</th>\n",
              "      <td>10 Best Foods for You</td>\n",
              "      <td>Health It s important world either life think</td>\n",
              "      <td>Positive</td>\n",
              "      <td>0.450000</td>\n",
              "      <td>1.000000</td>\n",
              "    </tr>\n",
              "    <tr>\n",
              "      <th>17</th>\n",
              "      <td>10 Best Foods for You</td>\n",
              "      <td>Mrs sunita bhati I thankful developers to make...</td>\n",
              "      <td>Positive</td>\n",
              "      <td>0.600000</td>\n",
              "      <td>0.666667</td>\n",
              "    </tr>\n",
              "    <tr>\n",
              "      <th>18</th>\n",
              "      <td>10 Best Foods for You</td>\n",
              "      <td>Very Useful in diabetes age 30 I need control ...</td>\n",
              "      <td>Positive</td>\n",
              "      <td>0.295000</td>\n",
              "      <td>0.100000</td>\n",
              "    </tr>\n",
              "    <tr>\n",
              "      <th>19</th>\n",
              "      <td>10 Best Foods for You</td>\n",
              "      <td>One greatest apps</td>\n",
              "      <td>Positive</td>\n",
              "      <td>1.000000</td>\n",
              "      <td>1.000000</td>\n",
              "    </tr>\n",
              "    <tr>\n",
              "      <th>20</th>\n",
              "      <td>10 Best Foods for You</td>\n",
              "      <td>good nice</td>\n",
              "      <td>Positive</td>\n",
              "      <td>0.650000</td>\n",
              "      <td>0.800000</td>\n",
              "    </tr>\n",
              "    <tr>\n",
              "      <th>21</th>\n",
              "      <td>10 Best Foods for You</td>\n",
              "      <td>Healthy Really helped</td>\n",
              "      <td>Positive</td>\n",
              "      <td>0.350000</td>\n",
              "      <td>0.350000</td>\n",
              "    </tr>\n",
              "    <tr>\n",
              "      <th>22</th>\n",
              "      <td>10 Best Foods for You</td>\n",
              "      <td>God health</td>\n",
              "      <td>Neutral</td>\n",
              "      <td>0.000000</td>\n",
              "      <td>0.000000</td>\n",
              "    </tr>\n",
              "    <tr>\n",
              "      <th>23</th>\n",
              "      <td>10 Best Foods for You</td>\n",
              "      <td>HEALTH SHOULD ALWAYS BE TOP PRIORITY ON MYSG5</td>\n",
              "      <td>Positive</td>\n",
              "      <td>0.781250</td>\n",
              "      <td>0.500000</td>\n",
              "    </tr>\n",
              "    <tr>\n",
              "      <th>24</th>\n",
              "      <td>10 Best Foods for You</td>\n",
              "      <td>An excellent A useful</td>\n",
              "      <td>Positive</td>\n",
              "      <td>0.650000</td>\n",
              "      <td>0.500000</td>\n",
              "    </tr>\n",
              "    <tr>\n",
              "      <th>25</th>\n",
              "      <td>10 Best Foods for You</td>\n",
              "      <td>I found lot wealth form health</td>\n",
              "      <td>Neutral</td>\n",
              "      <td>0.000000</td>\n",
              "      <td>0.000000</td>\n",
              "    </tr>\n",
              "    <tr>\n",
              "      <th>26</th>\n",
              "      <td>10 Best Foods for You</td>\n",
              "      <td>Because I found important</td>\n",
              "      <td>Positive</td>\n",
              "      <td>0.400000</td>\n",
              "      <td>1.000000</td>\n",
              "    </tr>\n",
              "    <tr>\n",
              "      <th>27</th>\n",
              "      <td>10 Best Foods for You</td>\n",
              "      <td>Healthy Eating</td>\n",
              "      <td>Positive</td>\n",
              "      <td>0.500000</td>\n",
              "      <td>0.500000</td>\n",
              "    </tr>\n",
              "    <tr>\n",
              "      <th>28</th>\n",
              "      <td>10 Best Foods for You</td>\n",
              "      <td>Very good Simply good</td>\n",
              "      <td>Positive</td>\n",
              "      <td>0.805000</td>\n",
              "      <td>0.690000</td>\n",
              "    </tr>\n",
              "    <tr>\n",
              "      <th>29</th>\n",
              "      <td>10 Best Foods for You</td>\n",
              "      <td>On test</td>\n",
              "      <td>Neutral</td>\n",
              "      <td>0.000000</td>\n",
              "      <td>0.000000</td>\n",
              "    </tr>\n",
              "    <tr>\n",
              "      <th>30</th>\n",
              "      <td>10 Best Foods for You</td>\n",
              "      <td>Good</td>\n",
              "      <td>Positive</td>\n",
              "      <td>1.000000</td>\n",
              "      <td>0.600000</td>\n",
              "    </tr>\n",
              "    <tr>\n",
              "      <th>31</th>\n",
              "      <td>10 Best Foods for You</td>\n",
              "      <td>Thanks advice Downloaded Adobe reader still ca...</td>\n",
              "      <td>Positive</td>\n",
              "      <td>0.200000</td>\n",
              "      <td>0.200000</td>\n",
              "    </tr>\n",
              "    <tr>\n",
              "      <th>32</th>\n",
              "      <td>10 Best Foods for You</td>\n",
              "      <td>No recipe book Unable recipe book</td>\n",
              "      <td>Negative</td>\n",
              "      <td>-0.500000</td>\n",
              "      <td>0.500000</td>\n",
              "    </tr>\n",
              "  </tbody>\n",
              "</table>\n",
              "</div>"
            ],
            "text/plain": [
              "                      App                                  Translated_Review  \\\n",
              "0   10 Best Foods for You  I like eat delicious food That s I m cooking f...   \n",
              "1   10 Best Foods for You    This help eating healthy exercise regular basis   \n",
              "3   10 Best Foods for You         Works great especially going grocery store   \n",
              "4   10 Best Foods for You                                       Best idea us   \n",
              "5   10 Best Foods for You                                           Best way   \n",
              "6   10 Best Foods for You                                            Amazing   \n",
              "8   10 Best Foods for You                                Looking forward app   \n",
              "9   10 Best Foods for You                  It helpful site It help foods get   \n",
              "10  10 Best Foods for You                                           good you   \n",
              "11  10 Best Foods for You  Useful information The amount spelling errors ...   \n",
              "12  10 Best Foods for You  Thank you Great app Add arthritis eyes immunit...   \n",
              "13  10 Best Foods for You  Greatest ever Completely awesome maintain heal...   \n",
              "14  10 Best Foods for You             Good health Good health first priority   \n",
              "16  10 Best Foods for You      Health It s important world either life think   \n",
              "17  10 Best Foods for You  Mrs sunita bhati I thankful developers to make...   \n",
              "18  10 Best Foods for You  Very Useful in diabetes age 30 I need control ...   \n",
              "19  10 Best Foods for You                                  One greatest apps   \n",
              "20  10 Best Foods for You                                          good nice   \n",
              "21  10 Best Foods for You                              Healthy Really helped   \n",
              "22  10 Best Foods for You                                         God health   \n",
              "23  10 Best Foods for You      HEALTH SHOULD ALWAYS BE TOP PRIORITY ON MYSG5   \n",
              "24  10 Best Foods for You                              An excellent A useful   \n",
              "25  10 Best Foods for You                     I found lot wealth form health   \n",
              "26  10 Best Foods for You                          Because I found important   \n",
              "27  10 Best Foods for You                                     Healthy Eating   \n",
              "28  10 Best Foods for You                              Very good Simply good   \n",
              "29  10 Best Foods for You                                            On test   \n",
              "30  10 Best Foods for You                                               Good   \n",
              "31  10 Best Foods for You  Thanks advice Downloaded Adobe reader still ca...   \n",
              "32  10 Best Foods for You                  No recipe book Unable recipe book   \n",
              "\n",
              "   Sentiment  Sentiment_Polarity  Sentiment_Subjectivity  \n",
              "0   Positive            1.000000                0.533333  \n",
              "1   Positive            0.250000                0.288462  \n",
              "3   Positive            0.400000                0.875000  \n",
              "4   Positive            1.000000                0.300000  \n",
              "5   Positive            1.000000                0.300000  \n",
              "6   Positive            0.600000                0.900000  \n",
              "8    Neutral            0.000000                0.000000  \n",
              "9    Neutral            0.000000                0.000000  \n",
              "10  Positive            0.700000                0.600000  \n",
              "11  Positive            0.200000                0.100000  \n",
              "12  Positive            0.750000                0.875000  \n",
              "13  Positive            0.992188                0.866667  \n",
              "14  Positive            0.550000                0.511111  \n",
              "16  Positive            0.450000                1.000000  \n",
              "17  Positive            0.600000                0.666667  \n",
              "18  Positive            0.295000                0.100000  \n",
              "19  Positive            1.000000                1.000000  \n",
              "20  Positive            0.650000                0.800000  \n",
              "21  Positive            0.350000                0.350000  \n",
              "22   Neutral            0.000000                0.000000  \n",
              "23  Positive            0.781250                0.500000  \n",
              "24  Positive            0.650000                0.500000  \n",
              "25   Neutral            0.000000                0.000000  \n",
              "26  Positive            0.400000                1.000000  \n",
              "27  Positive            0.500000                0.500000  \n",
              "28  Positive            0.805000                0.690000  \n",
              "29   Neutral            0.000000                0.000000  \n",
              "30  Positive            1.000000                0.600000  \n",
              "31  Positive            0.200000                0.200000  \n",
              "32  Negative           -0.500000                0.500000  "
            ]
          },
          "execution_count": 40,
          "metadata": {},
          "output_type": "execute_result"
        }
      ],
      "source": [
        "# Preview of dataframe after removing special characters.\n",
        "review_data.head(30)"
      ]
    },
    {
      "cell_type": "code",
      "execution_count": 41,
      "metadata": {
        "id": "ZiYaQrAzOTIc"
      },
      "outputs": [],
      "source": [
        "review_data.reset_index(drop = True, inplace = True)"
      ]
    },
    {
      "cell_type": "code",
      "execution_count": 42,
      "metadata": {
        "colab": {
          "base_uri": "https://localhost:8080/"
        },
        "id": "LO8sJMb8DD1B",
        "outputId": "f13bb24c-e67b-4024-c921-5a44c8c26d9c"
      },
      "outputs": [
        {
          "data": {
            "text/plain": [
              "(27914, 5)"
            ]
          },
          "execution_count": 42,
          "metadata": {},
          "output_type": "execute_result"
        }
      ],
      "source": [
        "# Total rows in reviews dataset after cleaning\n",
        "\n",
        "review_data.shape"
      ]
    },
    {
      "cell_type": "code",
      "execution_count": 43,
      "metadata": {
        "id": "WF4iO2kxDD1A"
      },
      "outputs": [],
      "source": [
        "# Save reviews dataset after cleaning to a csv file\n",
        "review_data.to_csv('./clean-data/playstore_reviews_clean_teamdatacrawlers.csv', encoding='utf-8')"
      ]
    },
    {
      "attachments": {},
      "cell_type": "markdown",
      "metadata": {
        "id": "NiqIH17MDD1B"
      },
      "source": [
        "**CLEANING DOCUMENTATION**\n",
        "\n",
        "**◘ Apps Dataset**\n",
        "1. The playstore apps dataset contains 13 columns and 10841 rows. And there were 483 duplicates in the dataset that were removed. There were also 566 duplicates present in the 'App' column that were removed.\n",
        "2. Irrelevant values were also removed if present in any column, for instance '1.9' was present in 'Category' column.\n",
        "3. Special characters like '+', '_', '-' and more were also removed from the 'App' and 'Category' column.\n",
        "4. Null values in the 'Rating' column were changed to zero.\n",
        "5. Rows with null values in columns having datatype text or string were also removed.\n",
        "6. Null values present in the 'Current Ver' column were changed to NaN.\n",
        "7. The 'Last Updated' column contains dates. Its datatype was changed from object to datetime to reflect the observations within.\n",
        "8. Generated csv file of playstore apps dataset after cleaning.\n",
        "\n",
        "**◘ Reviews Dataset** \n",
        "1. The playstore reviews dataset contains 5 columns and 64295 rows. And there were 9433 duplicates in the 'Translated_Review' column that were removed.\n",
        "2. Rows with NaN reviews in the 'Translated_Reviews' column of the playstore reviews dataset were dropped since they won't provide any meaningful information.\n",
        "3. Removed special characters from 'App' and 'Translated_Review' column in order to ensure utf-8 encoding"
      ]
    }
  ],
  "metadata": {
    "colab": {
      "provenance": []
    },
    "kernelspec": {
      "display_name": "Python 3",
      "language": "python",
      "name": "python3"
    },
    "language_info": {
      "codemirror_mode": {
        "name": "ipython",
        "version": 3
      },
      "file_extension": ".py",
      "mimetype": "text/x-python",
      "name": "python",
      "nbconvert_exporter": "python",
      "pygments_lexer": "ipython3",
      "version": "3.11.2"
    },
    "vscode": {
      "interpreter": {
        "hash": "beedbe2faf2f7048d727558d0bc3221e7eba2a0b921cac4d4771b2feb8f74b30"
      }
    }
  },
  "nbformat": 4,
  "nbformat_minor": 4
}
